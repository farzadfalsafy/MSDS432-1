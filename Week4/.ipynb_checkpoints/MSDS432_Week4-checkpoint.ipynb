{
 "cells": [
  {
   "cell_type": "markdown",
   "metadata": {},
   "source": [
    "### Import Dependencies"
   ]
  },
  {
   "cell_type": "code",
   "execution_count": 18,
   "metadata": {},
   "outputs": [],
   "source": [
    "import pandas as pd\n",
    "import numpy as np\n",
    "import time\n",
    "import matplotlib.pyplot as plt\n",
    "import seaborn as sns\n",
    "import random\n",
    "import string"
   ]
  },
  {
   "cell_type": "code",
   "execution_count": 19,
   "metadata": {},
   "outputs": [],
   "source": [
    "# Code copied from Grokking Algorithms textbook: https://github.com/egonSchiele/grokking_algorithms/blob/master/04_quicksort/python/05_quicksort.py\n",
    "def quicksort(array):\n",
    "  if len(array) < 2:\n",
    "    # base case, arrays with 0 or 1 element are already \"sorted\"\n",
    "    return array\n",
    "  else:\n",
    "    # recursive case\n",
    "    pivot = array[0]\n",
    "    # sub-array of all the elements less than the pivot\n",
    "    less = [i for i in array[1:] if i <= pivot]\n",
    "    # sub-array of all the elements greater than the pivot\n",
    "    greater = [i for i in array[1:] if i > pivot]\n",
    "    return quicksort(less) + [pivot] + quicksort(greater)\n",
    "\n",
    "def create_stringarray(array_length):\n",
    "    random.seed(14)\n",
    "    string_array = [''.join(random.choices(string.ascii_letters, k=50)) for j in range(array_length)]\n",
    "    if len(set(string_array)) < array_length:\n",
    "        string_array = [''.join(random.choices(string.ascii_letters, k=50)) for j in range(array_length)]\n",
    "        create_stringarrays(array_length)\n",
    "    else:\n",
    "        print('All set!')\n",
    "    return string_array"
   ]
  },
  {
   "cell_type": "code",
   "execution_count": 20,
   "metadata": {},
   "outputs": [],
   "source": [
    "## Define the different sort types we'll test\n",
    "# Code taken from GeeksForGeeks.com implementations\n",
    "\n",
    "# Merge sort\n",
    "def mergeSort(array): \n",
    "    arr = array.copy()\n",
    "    if len(arr) >1: \n",
    "        mid = len(arr)//2 #Finding the mid of the array \n",
    "        L = arr[:mid] # Dividing the array elements  \n",
    "        R = arr[mid:] # into 2 halves \n",
    "  \n",
    "        mergeSort(L) # Sorting the first half \n",
    "        mergeSort(R) # Sorting the second half \n",
    "  \n",
    "        i = j = k = 0\n",
    "          \n",
    "        # Copy data to temp arrays L[] and R[] \n",
    "        while i < len(L) and j < len(R): \n",
    "            if L[i] < R[j]: \n",
    "                arr[k] = L[i] \n",
    "                i+=1\n",
    "            else: \n",
    "                arr[k] = R[j] \n",
    "                j+=1\n",
    "            k+=1\n",
    "          \n",
    "        # Checking if any element was left \n",
    "        while i < len(L): \n",
    "            arr[k] = L[i] \n",
    "            i+=1\n",
    "            k+=1\n",
    "          \n",
    "        while j < len(R): \n",
    "            arr[k] = R[j] \n",
    "            j+=1\n",
    "            k+=1\n",
    "\n",
    "# Bubble sort\n",
    "def bubbleSort(arr): \n",
    "    n = len(arr) \n",
    "  \n",
    "    # Traverse through all array elements \n",
    "    for i in range(n): \n",
    "  \n",
    "        # Last i elements are already in place \n",
    "        for j in range(0, n-i-1): \n",
    "  \n",
    "            # traverse the array from 0 to n-i-1 \n",
    "            # Swap if the element found is greater \n",
    "            # than the next element \n",
    "            if arr[j] > arr[j+1] : \n",
    "                arr[j], arr[j+1] = arr[j+1], arr[j] \n",
    "                \n",
    "# Insertion sort\n",
    "def insertionSort(arr): \n",
    "  \n",
    "    # Traverse through 1 to len(arr) \n",
    "    for i in range(1, len(arr)): \n",
    "  \n",
    "        key = arr[i] \n",
    "  \n",
    "        # Move elements of arr[0..i-1], that are \n",
    "        # greater than key, to one position ahead \n",
    "        # of their current position \n",
    "        j = i-1\n",
    "        while j >= 0 and key < arr[j] : \n",
    "                arr[j + 1] = arr[j] \n",
    "                j -= 1\n",
    "        arr[j + 1] = key "
   ]
  },
  {
   "cell_type": "markdown",
   "metadata": {},
   "source": [
    "Set up a list of length 20,000 that contains randomly generated strings of length 50 characters.  You may use the code we used in previous homework assignments.  Make sure the list is unsorted and does not contain any duplicates.\n"
   ]
  },
  {
   "cell_type": "code",
   "execution_count": 21,
   "metadata": {},
   "outputs": [
    {
     "name": "stdout",
     "output_type": "stream",
     "text": [
      "All set!\n",
      "All set!\n",
      "All set!\n",
      "All set!\n",
      "All set!\n"
     ]
    }
   ],
   "source": [
    "# Define arrays\n",
    "array_lengths = [200,400,600,800,1000]\n",
    "arrays = []\n",
    "\n",
    "# Create five arrays of random\n",
    "for length in array_lengths:\n",
    "    string_array = create_stringarray(length)\n",
    "    arrays.append(string_array)"
   ]
  },
  {
   "cell_type": "code",
   "execution_count": 22,
   "metadata": {},
   "outputs": [
    {
     "name": "stdout",
     "output_type": "stream",
     "text": [
      "Quicksort on a 50-length random alpha character array of length 200 took 0.0024695209995115874 seconds.\n",
      "Quicksort on a 50-length random alpha character array of length 400 took 0.002273476000482333 seconds.\n",
      "Quicksort on a 50-length random alpha character array of length 600 took 0.002106090998495347 seconds.\n",
      "Quicksort on a 50-length random alpha character array of length 800 took 0.002072339999358519 seconds.\n",
      "Quicksort on a 50-length random alpha character array of length 1000 took 0.002875873000448337 seconds.\n"
     ]
    }
   ],
   "source": [
    "# Textbook version of quicksort is defined above\n",
    "quicksort_executions = []\n",
    "for i in arrays:\n",
    "    t1 = time.perf_counter()\n",
    "    quicksort(string_array)\n",
    "    t2 = time.perf_counter()\n",
    "    quicksort_execution = t2-t1\n",
    "    print(f'Quicksort on a 50-length random alpha character array of length {len(i)} took {quicksort_execution} seconds.')\n",
    "    quicksort_executions.append(quicksort_execution)"
   ]
  },
  {
   "cell_type": "markdown",
   "metadata": {},
   "source": [
    "Now use at least two other sorting algorithms on the same data set (e.g. merge sort, bubble sort, insertion sort, etc).  Make sure that you code the sorting algorithm and you do not use a builtin function. By this I mean you may not use np,sort() or sorted(), etc.  You must code the algorithm in order to compare the complexity of each.  Here is a good resource https://www.geeksforgeeks.org/sorting-algorithms/ (Links to an external site.)).  Capture the computation time for every sorting algorithm that you have used (remember to use a minimum of three algorithms including quicksort). \n"
   ]
  },
  {
   "cell_type": "markdown",
   "metadata": {},
   "source": [
    "Please note that I recreate the strings for each sorting implementation. This is because the arrays are sorted in-place, resulting in unequal times. Because a random seed is being used as part of the `create_stringarray(arraylength)` function, each of the implementations will be the same. Please see the cell below demonstrating that two implementations are the same."
   ]
  },
  {
   "cell_type": "code",
   "execution_count": 23,
   "metadata": {},
   "outputs": [
    {
     "name": "stdout",
     "output_type": "stream",
     "text": [
      "All set!\n",
      "All set!\n"
     ]
    },
    {
     "data": {
      "text/plain": [
       "True"
      ]
     },
     "execution_count": 23,
     "metadata": {},
     "output_type": "execute_result"
    }
   ],
   "source": [
    "string1 = create_stringarray(50)\n",
    "string2 = create_stringarray(50)\n",
    "string1 == string2"
   ]
  },
  {
   "cell_type": "code",
   "execution_count": 26,
   "metadata": {},
   "outputs": [
    {
     "name": "stdout",
     "output_type": "stream",
     "text": [
      "All set!\n",
      "All set!\n",
      "All set!\n",
      "All set!\n",
      "All set!\n",
      "Merge sort on a 50-length random alpha character array of length 200 took 0.001161772001069039 seconds.\n",
      "Merge sort on a 50-length random alpha character array of length 400 took 0.001817419000872178 seconds.\n",
      "Merge sort on a 50-length random alpha character array of length 600 took 0.0017025590004777769 seconds.\n",
      "Merge sort on a 50-length random alpha character array of length 800 took 0.002681380001376965 seconds.\n",
      "Merge sort on a 50-length random alpha character array of length 1000 took 0.004057001999171916 seconds.\n"
     ]
    }
   ],
   "source": [
    "# Merge Sort\n",
    "array_lengths = [200,400,600,800,1000]\n",
    "arrays = []\n",
    "mergesort_executions = []\n",
    "# Create five arrays of random\n",
    "for length in array_lengths:\n",
    "    string_array = create_stringarray(length)\n",
    "    arrays.append(string_array)\n",
    "\n",
    "for i in arrays:\n",
    "    t1 = time.perf_counter()\n",
    "    mergeSort(i)\n",
    "    t2 = time.perf_counter()\n",
    "    mergesort_execution = t2-t1\n",
    "    print(f'Merge sort on a 50-length random alpha character array of length {len(i)} took {mergesort_execution} seconds.')\n",
    "    mergesort_executions.append(mergesort_execution)"
   ]
  },
  {
   "cell_type": "code",
   "execution_count": 27,
   "metadata": {},
   "outputs": [
    {
     "name": "stdout",
     "output_type": "stream",
     "text": [
      "All set!\n",
      "All set!\n",
      "All set!\n",
      "All set!\n",
      "All set!\n",
      "Merge sort on a 50-length random alpha character array of length 200 took 0.003721277000295231 seconds.\n",
      "Merge sort on a 50-length random alpha character array of length 400 took 0.013175633001083042 seconds.\n",
      "Merge sort on a 50-length random alpha character array of length 600 took 0.02625233999970078 seconds.\n",
      "Merge sort on a 50-length random alpha character array of length 800 took 0.04962874700140674 seconds.\n",
      "Merge sort on a 50-length random alpha character array of length 1000 took 0.0750341330003721 seconds.\n"
     ]
    }
   ],
   "source": [
    "# Bubble Sort\n",
    "\n",
    "array_lengths = [200,400,600,800,1000]\n",
    "arrays = []\n",
    "bubblesort_executions = []\n",
    "# Create five arrays of random\n",
    "for length in array_lengths:\n",
    "    string_array = create_stringarray(length)\n",
    "    arrays.append(string_array)\n",
    "\n",
    "for i in arrays:\n",
    "    t1 = time.perf_counter()\n",
    "    bubbleSort(i)\n",
    "    t2 = time.perf_counter()\n",
    "    bubblesort_execution = t2-t1\n",
    "    print(f'Merge sort on a 50-length random alpha character array of length {len(i)} took {bubblesort_execution} seconds.')\n",
    "    bubblesort_executions.append(bubblesort_execution)"
   ]
  },
  {
   "cell_type": "code",
   "execution_count": 28,
   "metadata": {},
   "outputs": [
    {
     "name": "stdout",
     "output_type": "stream",
     "text": [
      "All set!\n",
      "All set!\n",
      "All set!\n",
      "All set!\n",
      "All set!\n",
      "Merge sort on a 50-length random alpha character array of length 200 took 0.0012007299992546905 seconds.\n",
      "Merge sort on a 50-length random alpha character array of length 400 took 0.006909405999977025 seconds.\n",
      "Merge sort on a 50-length random alpha character array of length 600 took 0.01230676399973163 seconds.\n",
      "Merge sort on a 50-length random alpha character array of length 800 took 0.023218250998979784 seconds.\n",
      "Merge sort on a 50-length random alpha character array of length 1000 took 0.03615544099920953 seconds.\n"
     ]
    }
   ],
   "source": [
    "# Insertion Sort\n",
    "\n",
    "array_lengths = [200,400,600,800,1000]\n",
    "arrays = []\n",
    "insertionsort_executions = []\n",
    "# Create five arrays of random\n",
    "for length in array_lengths:\n",
    "    string_array = create_stringarray(length)\n",
    "    arrays.append(string_array)\n",
    "\n",
    "for i in arrays:\n",
    "    t1 = time.perf_counter()\n",
    "    insertionSort(i)\n",
    "    t2 = time.perf_counter()\n",
    "    insertionsort_execution = t2-t1\n",
    "    print(f'Merge sort on a 50-length random alpha character array of length {len(i)} took {insertionsort_execution} seconds.')\n",
    "    insertionsort_executions.append(insertionsort_execution)"
   ]
  },
  {
   "cell_type": "markdown",
   "metadata": {},
   "source": [
    "Create a graph comparing times for all of the algorithms that you have used and discuss your findings.  Your discussion should contain what you actually found and reasons behind it.\n"
   ]
  },
  {
   "cell_type": "code",
   "execution_count": 29,
   "metadata": {},
   "outputs": [
    {
     "data": {
      "text/html": [
       "<div>\n",
       "<style scoped>\n",
       "    .dataframe tbody tr th:only-of-type {\n",
       "        vertical-align: middle;\n",
       "    }\n",
       "\n",
       "    .dataframe tbody tr th {\n",
       "        vertical-align: top;\n",
       "    }\n",
       "\n",
       "    .dataframe thead th {\n",
       "        text-align: right;\n",
       "    }\n",
       "</style>\n",
       "<table border=\"1\" class=\"dataframe\">\n",
       "  <thead>\n",
       "    <tr style=\"text-align: right;\">\n",
       "      <th></th>\n",
       "      <th>array_length</th>\n",
       "      <th>quicksort_execution</th>\n",
       "      <th>mergesort_execution</th>\n",
       "      <th>bubblesort_execution</th>\n",
       "      <th>insertionsort_execution</th>\n",
       "    </tr>\n",
       "  </thead>\n",
       "  <tbody>\n",
       "    <tr>\n",
       "      <td>0</td>\n",
       "      <td>200</td>\n",
       "      <td>0.002470</td>\n",
       "      <td>0.001162</td>\n",
       "      <td>0.003721</td>\n",
       "      <td>0.001201</td>\n",
       "    </tr>\n",
       "    <tr>\n",
       "      <td>1</td>\n",
       "      <td>400</td>\n",
       "      <td>0.002273</td>\n",
       "      <td>0.001817</td>\n",
       "      <td>0.013176</td>\n",
       "      <td>0.006909</td>\n",
       "    </tr>\n",
       "    <tr>\n",
       "      <td>2</td>\n",
       "      <td>600</td>\n",
       "      <td>0.002106</td>\n",
       "      <td>0.001703</td>\n",
       "      <td>0.026252</td>\n",
       "      <td>0.012307</td>\n",
       "    </tr>\n",
       "    <tr>\n",
       "      <td>3</td>\n",
       "      <td>800</td>\n",
       "      <td>0.002072</td>\n",
       "      <td>0.002681</td>\n",
       "      <td>0.049629</td>\n",
       "      <td>0.023218</td>\n",
       "    </tr>\n",
       "    <tr>\n",
       "      <td>4</td>\n",
       "      <td>1000</td>\n",
       "      <td>0.002876</td>\n",
       "      <td>0.004057</td>\n",
       "      <td>0.075034</td>\n",
       "      <td>0.036155</td>\n",
       "    </tr>\n",
       "  </tbody>\n",
       "</table>\n",
       "</div>"
      ],
      "text/plain": [
       "   array_length  quicksort_execution  mergesort_execution  \\\n",
       "0           200             0.002470             0.001162   \n",
       "1           400             0.002273             0.001817   \n",
       "2           600             0.002106             0.001703   \n",
       "3           800             0.002072             0.002681   \n",
       "4          1000             0.002876             0.004057   \n",
       "\n",
       "   bubblesort_execution  insertionsort_execution  \n",
       "0              0.003721                 0.001201  \n",
       "1              0.013176                 0.006909  \n",
       "2              0.026252                 0.012307  \n",
       "3              0.049629                 0.023218  \n",
       "4              0.075034                 0.036155  "
      ]
     },
     "execution_count": 29,
     "metadata": {},
     "output_type": "execute_result"
    }
   ],
   "source": [
    "execution_comparison_df = pd.DataFrame(\n",
    "{\n",
    "    'array_length'             : array_lengths\n",
    "    ,'quicksort_execution'     : quicksort_executions\n",
    "    ,'mergesort_execution'     : mergesort_executions\n",
    "    ,'bubblesort_execution'    : bubblesort_executions\n",
    "    ,'insertionsort_execution' : insertionsort_executions\n",
    "})\n",
    "execution_comparison_df"
   ]
  },
  {
   "cell_type": "markdown",
   "metadata": {},
   "source": [
    "Prepare an executive summary of your results, referring to the table and figures you have generated. Explain how your results relate to big O notation. Describe your results in language that management can understand. This summary should be included as text paragraphs in the Jupyter notebook. Explain how the algorithm works and why it is a useful to data engineers.\n",
    "\n",
    "Please make sure that all work on the assignment be completed within Jupyter notebook with separate paragraphs of Python code and text discussions for each part of the assignment.  The executive summary should be at the end and tie everything together.   Submission may be made with the ipython notebook or an html/pdf export.\n",
    "\n",
    "Program code should conform to best practices in software development, as described in the coding/software development textbook used in the course. \n",
    "\n"
   ]
  },
  {
   "cell_type": "code",
   "execution_count": null,
   "metadata": {},
   "outputs": [],
   "source": [
    "# ax = sns.lineplot(x='number', y='recursive_compute', data=df)\n",
    "# ax = sns.lineplot(x='number', y='for_loop_compute', data=df)\n",
    "# ax.legend(['Recursive Factorialization','Looping Factorialization'])\n",
    "\n",
    "# plt.title('Execution Time for Factorialization Methods')\n",
    "# plt.xlabel('Number to Factorialize')\n",
    "# plt.ylabel('Execution Time (seconds)')\n",
    "# plt.xticks([0,100,200,300,400,500])\n",
    "# plt.show()"
   ]
  }
 ],
 "metadata": {
  "kernelspec": {
   "display_name": "Python 3",
   "language": "python",
   "name": "python3"
  },
  "language_info": {
   "codemirror_mode": {
    "name": "ipython",
    "version": 3
   },
   "file_extension": ".py",
   "mimetype": "text/x-python",
   "name": "python",
   "nbconvert_exporter": "python",
   "pygments_lexer": "ipython3",
   "version": "3.7.4"
  }
 },
 "nbformat": 4,
 "nbformat_minor": 2
}
