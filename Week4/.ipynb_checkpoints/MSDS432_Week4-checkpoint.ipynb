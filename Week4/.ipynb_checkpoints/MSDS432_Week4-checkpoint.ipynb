{
 "cells": [
  {
   "cell_type": "markdown",
   "metadata": {},
   "source": [
    "### Import Dependencies"
   ]
  },
  {
   "cell_type": "code",
   "execution_count": null,
   "metadata": {},
   "outputs": [],
   "source": [
    "import pandas as pd\n",
    "import numpy as np\n",
    "import time\n",
    "import matplotlib.pyplot as plt\n",
    "import seaborn as sns"
   ]
  },
  {
   "cell_type": "code",
   "execution_count": null,
   "metadata": {},
   "outputs": [],
   "source": [
    "# Code copied from Grokking Algorithms textbook: https://github.com/egonSchiele/grokking_algorithms/blob/master/04_quicksort/python/05_quicksort.py\n",
    "def quicksort(array):\n",
    "  if len(array) < 2:\n",
    "    # base case, arrays with 0 or 1 element are already \"sorted\"\n",
    "    return array\n",
    "  else:\n",
    "    # recursive case\n",
    "    pivot = array[0]\n",
    "    # sub-array of all the elements less than the pivot\n",
    "    less = [i for i in array[1:] if i <= pivot]\n",
    "    # sub-array of all the elements greater than the pivot\n",
    "    greater = [i for i in array[1:] if i > pivot]\n",
    "    return quicksort(less) + [pivot] + quicksort(greater)\n",
    "\n",
    "print(quicksort([10, 5, 2, 3]))\n"
   ]
  },
  {
   "cell_type": "markdown",
   "metadata": {},
   "source": [
    "Set up a list of length 20,000 that contains randomly generated strings of length 50 characters.  You may use the code we used in previous homework assignments.  Make sure the list is unsorted and does not contain any duplicates.\n"
   ]
  },
  {
   "cell_type": "code",
   "execution_count": null,
   "metadata": {},
   "outputs": [],
   "source": []
  },
  {
   "cell_type": "markdown",
   "metadata": {},
   "source": [
    "Use the textbook implementation of quicksort to sort the data, being sure to capture the amount of time it takes. \n"
   ]
  },
  {
   "cell_type": "code",
   "execution_count": null,
   "metadata": {},
   "outputs": [],
   "source": []
  },
  {
   "cell_type": "markdown",
   "metadata": {},
   "source": [
    "Now use at least two other sorting algorithms on the same data set (e.g. merge sort, bubble sort, insertion sort, etc).  Make sure that you code the sorting algorithm and you do not use a builtin function. By this I mean you may not use np,sort() or sorted(), etc.  You must code the algorithm in order to compare the complexity of each.  Here is a good resource https://www.geeksforgeeks.org/sorting-algorithms/ (Links to an external site.)).  Capture the computation time for every sorting algorithm that you have used (remember to use a minimum of three algorithms including quicksort). \n"
   ]
  },
  {
   "cell_type": "code",
   "execution_count": null,
   "metadata": {},
   "outputs": [],
   "source": []
  },
  {
   "cell_type": "markdown",
   "metadata": {},
   "source": [
    "Create a graph comparing times for all of the algorithms that you have used and discuss your findings.  Your discussion should contain what you actually found and reasons behind it.\n"
   ]
  },
  {
   "cell_type": "code",
   "execution_count": null,
   "metadata": {},
   "outputs": [],
   "source": []
  },
  {
   "cell_type": "markdown",
   "metadata": {},
   "source": [
    "Prepare an executive summary of your results, referring to the table and figures you have generated. Explain how your results relate to big O notation. Describe your results in language that management can understand. This summary should be included as text paragraphs in the Jupyter notebook. Explain how the algorithm works and why it is a useful to data engineers.\n",
    "\n",
    "Please make sure that all work on the assignment be completed within Jupyter notebook with separate paragraphs of Python code and text discussions for each part of the assignment.  The executive summary should be at the end and tie everything together.   Submission may be made with the ipython notebook or an html/pdf export.\n",
    "\n",
    "Program code should conform to best practices in software development, as described in the coding/software development textbook used in the course. \n",
    "\n"
   ]
  },
  {
   "cell_type": "code",
   "execution_count": null,
   "metadata": {},
   "outputs": [],
   "source": []
  }
 ],
 "metadata": {
  "kernelspec": {
   "display_name": "Python 3",
   "language": "python",
   "name": "python3"
  },
  "language_info": {
   "codemirror_mode": {
    "name": "ipython",
    "version": 3
   },
   "file_extension": ".py",
   "mimetype": "text/x-python",
   "name": "python",
   "nbconvert_exporter": "python",
   "pygments_lexer": "ipython3",
   "version": "3.7.4"
  }
 },
 "nbformat": 4,
 "nbformat_minor": 2
}
