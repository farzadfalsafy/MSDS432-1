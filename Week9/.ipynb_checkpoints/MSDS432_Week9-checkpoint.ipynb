{
 "cells": [
  {
   "cell_type": "markdown",
   "metadata": {},
   "source": [
    "# Standard Imports"
   ]
  },
  {
   "cell_type": "code",
   "execution_count": 1,
   "metadata": {},
   "outputs": [],
   "source": [
    "import pandas as pd\n",
    "import numpy as np\n",
    "import sys\n",
    "import os"
   ]
  },
  {
   "cell_type": "markdown",
   "metadata": {},
   "source": [
    "# The Problem:\n",
    "This week's topic is dynamic programming. Using code from GeeksForGeeks, I will demonstrate the workings of a dynamic programming algorithm to calculate Edit Distance - the number of insertions, deletions, or updates it takes to make on string match another string (both given as arguments of the function).\n",
    "\n",
    "The purpose of this notebook is not necessarily building or testing the algorithm so much as it is explaining the mechanisms at play.\n",
    "\n",
    "## A short note on Dynamic Programming:\n",
    "Dynamic programming is a paradigm that aims to break a complex problem that may not have a simple, elegant solution and break it into smaller subproblems that can be more easily solved. Dynamic programming uses matrices to optimize something given a constraint (edit distance, items in a knapsack, etc.).\n",
    "\n",
    "Dynamic programming has a number of use cases in a wide range of domains, and is a clever paradigm to keep in mind when tackling a complex problem."
   ]
  },
  {
   "cell_type": "markdown",
   "metadata": {},
   "source": [
    "# Edit Distance\n",
    "Thanks to GeeksForGeeks contributor Bhavya Jain for the source code. My aim here is only to explain the dynamic programming element. https://www.geeksforgeeks.org/edit-distance-dp-5/"
   ]
  },
  {
   "cell_type": "code",
   "execution_count": 2,
   "metadata": {},
   "outputs": [
    {
     "name": "stdout",
     "output_type": "stream",
     "text": [
      "1\n"
     ]
    }
   ],
   "source": [
    "# A Dynamic Programming based Python program for edit \n",
    "# distance problem \n",
    "def editDistDP(str1, str2, m, n): \n",
    "    # Create a table to store results of subproblems \n",
    "    dp = [[0 for x in range(n + 1)] for x in range(m + 1)] \n",
    "\n",
    "    # Fill d[][] in bottom up manner \n",
    "    for i in range(m + 1): \n",
    "        for j in range(n + 1): \n",
    "  \n",
    "            # If first string is empty, only option is to \n",
    "            # insert all characters of second string \n",
    "            if i == 0: \n",
    "                dp[i][j] = j    # Min. operations = j \n",
    "  \n",
    "            # If second string is empty, only option is to \n",
    "            # remove all characters of second string \n",
    "            elif j == 0: \n",
    "                dp[i][j] = i    # Min. operations = i \n",
    "  \n",
    "            # If last characters are same, ignore last char \n",
    "            # and recur for remaining string \n",
    "            elif str1[i-1] == str2[j-1]: \n",
    "                dp[i][j] = dp[i-1][j-1] \n",
    "  \n",
    "            # If last character are different, consider all \n",
    "            # possibilities and find minimum \n",
    "            else: \n",
    "                dp[i][j] = 1 + min(dp[i][j-1],        # Insert \n",
    "                                   dp[i-1][j],        # Remove \n",
    "                                   dp[i-1][j-1])    # Replace \n",
    "  \n",
    "    return dp[m][n] \n",
    "  \n",
    "# Driver program \n",
    "str1 = \"abc\"\n",
    "str2 = \"abcd\"\n",
    "  \n",
    "print(editDistDP(str1, str2, len(str1), len(str2))) \n",
    "# This code is contributed by Bhavya Jain "
   ]
  },
  {
   "cell_type": "markdown",
   "metadata": {},
   "source": [
    "# Dynamic Programming Explanation\n",
    "## Step 1: Create the matrix.\n",
    "Using nested list comprehensions, create a matrix of shape (len(str2)+1)\\*(len(str1)+1). All values are initialized with zero, but will be overwritten later.\n",
    "\n",
    "The additional row/column (respectively) are placed to count the number of edits required in the case that one of the strings is empty.\n",
    "\n",
    "## Step 2:  Solving subproblems - use nested for loops to iterate and count edit distance by character.\n",
    "Using nested for loops for string lengths, check that both strings are not empty. If they are, then the edit distance becomes the length of the non-empty string (inserting all characters, with each insertion counted as an edit).\n",
    "\n",
    "If the last characters are the same, jump up and to the left to check the next-last character since the edit distance for those characters is 0.\n",
    "\n",
    "Lastly, if the last characters are different (an edit is required), the next matrix cell is incremented by 1 and added to the minimum of the cell to the left (`str1` 1 character shorter), the cell on top (`str2` 1 character shorter), or diagnoally up and to the left (`str1` and `str2` both 1 character shorter). This represents one additional edit being carried out. The algorithm then moves on to the next column in the row (the algorithm runs row-wise, then columns).\n",
    "\n",
    "\n",
    "## Step 3: Return edit distance.\n",
    "Finally, the algorithm returns the value of the bottom-right most cell (the sum of the intermediate edit distances created using the subproblems).\n",
    "\n",
    "## Note: The same character of a different case will be considered an edit (e.g. 'c' to 'C').\n",
    "This is because Python is case sensitive, as are most programming languages, and the characters are encoded differently. When using this in a production environment where you wish to make things case insensitive, it is best practice to set both strings to lowercase as a first step in the algorithm."
   ]
  },
  {
   "cell_type": "markdown",
   "metadata": {},
   "source": [
    "## Examples"
   ]
  },
  {
   "cell_type": "code",
   "execution_count": 3,
   "metadata": {},
   "outputs": [
    {
     "name": "stdout",
     "output_type": "stream",
     "text": [
      "For two similar strings whose only difference is that one character is uppercase, edit distance is 1.\n",
      "----------\n",
      "When comparing two strings, one of which is empty, the difference \n",
      "will be the number of characters in the other string.\n",
      "8\n",
      "----------------\n",
      "Comparing names is common when normalizing user input data. The edit distance between Randall and Randy is 3.\n",
      "A company I have worked for uses name edit distance when users register for a program in order to help show which medical claims belong to them that the company receive from a medical provider.\n"
     ]
    }
   ],
   "source": [
    "# Show case sensitive edit distance\n",
    "case_sensitive = editDistDP('abC','abc',len('abC'), len('abc'))\n",
    "print(f'For two similar strings whose only difference is that one character is uppercase, edit distance is {case_sensitive}.')\n",
    "print('----------')\n",
    "\n",
    "# Show edit distance where one string is empty\n",
    "empty_distance = editDistDP('', 'Go Cats!', len(''), len('Go Cats!'))\n",
    "print('When comparing two strings, one of which is empty, the difference \\nwill be the number of characters in the other string.')\n",
    "print(empty_distance)\n",
    "print('----------------')\n",
    "\n",
    "# Show edit distance between two names\n",
    "name_dist = editDistDP('Randall','Randy', len('Randall'), len('Randy'))\n",
    "print(f'Comparing names is common when normalizing user input data. The edit distance between Randall and Randy is {name_dist}.')\n",
    "print('A company I have worked for uses name edit distance when users register for a program in order to help show which medical claims belong to them that the company receive from a medical provider.')"
   ]
  },
  {
   "cell_type": "markdown",
   "metadata": {},
   "source": [
    "# Summary\n",
    "Specifically for an edit distance algorithm, this can be useful when matching user input data to normalized files that may use a legal name. In an above example, we can see that the edit distance between \"Randall\" and \"Randy\" is 3 - one edit and two inserts. A company might use this to help automate certainty levels that a user input (\"Randy\") is the same person as \"Randall\" that may show up on official forms. My experience lies with medical data, so the legal name is used on a medical or phamacy claim. The data engineering team utilizes an edit distance algorithm to help bridge members to their user input data (perhaps the user wants to be called \"Randy\" - we can still match claims that apply to him).\n",
    "\n",
    "Dynamic programming in general is useful to data engineers because it allows for an automated way to solve smaller problems in order to tackle a larger one (in the case of an edit distance algorithm, the subproblems are \"does this character match in both strings?\", while the larger problem is \"what is the edit distance between these two given strings?\").\n",
    "\n",
    "The computational complexity of the algorithm is $O(n*m)$, where $n$ and $m$ are the lengths of the two given input strings. While multiplicative, it is not necessarily exponential, so should generalize well to strings of moderate size."
   ]
  }
 ],
 "metadata": {
  "kernelspec": {
   "display_name": "Python 3",
   "language": "python",
   "name": "python3"
  },
  "language_info": {
   "codemirror_mode": {
    "name": "ipython",
    "version": 3
   },
   "file_extension": ".py",
   "mimetype": "text/x-python",
   "name": "python",
   "nbconvert_exporter": "python",
   "pygments_lexer": "ipython3",
   "version": "3.7.4"
  }
 },
 "nbformat": 4,
 "nbformat_minor": 2
}
