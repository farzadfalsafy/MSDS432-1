{
 "cells": [
  {
   "cell_type": "markdown",
   "metadata": {},
   "source": [
    "# Import Dependencies"
   ]
  },
  {
   "cell_type": "code",
   "execution_count": 16,
   "metadata": {},
   "outputs": [],
   "source": [
    "import numpy as np\n",
    "import pandas as pd\n",
    "from time import process_time\n",
    "import matplotlib.pyplot as plt\n",
    "import seaborn as sns"
   ]
  },
  {
   "cell_type": "markdown",
   "metadata": {},
   "source": [
    "# Build out user-defined functions for later use"
   ]
  },
  {
   "cell_type": "markdown",
   "metadata": {},
   "source": [
    "### The first two are functions I built myself - it is possible that there are more efficient ways to write them."
   ]
  },
  {
   "cell_type": "code",
   "execution_count": 17,
   "metadata": {},
   "outputs": [],
   "source": [
    "def reset_arrays():\n",
    "    \"\"\"Returns two items:\n",
    "    1) List of five unsorted random uniform integer arrays of length [512, 1024, 2048, 4096, and 8192].\n",
    "    2) List of five array lengths in ascending order: [512, 1024, 2048, 4096, 8192]\n",
    "    \"\"\"\n",
    "    arrays = []\n",
    "    array_lengths = [512, 1024, 2048, 4096, 8192]\n",
    "    for length in array_lengths:\n",
    "        array = np.random.randint(low=1, high=10000, size=length)\n",
    "        arrays.append(array)\n",
    "    return arrays, array_lengths\n",
    "\n",
    "\n",
    "# This assumes that the list passed is all integers and does not validate - this is to keep runtimes short\n",
    "def max_linear_search(intarray):\n",
    "    counter = 0\n",
    "    maximum = 0\n",
    "    while counter+1 < len(intarray):        \n",
    "        if intarray[counter] >= maximum:\n",
    "            maximum = intarray[counter]\n",
    "        else:\n",
    "            pass\n",
    "        return None"
   ]
  },
  {
   "cell_type": "code",
   "execution_count": 18,
   "metadata": {},
   "outputs": [],
   "source": [
    "##### COPIED CODE FROM https://github.com/egonSchiele/grokking_algorithms\n",
    "def binary_search(list, item):\n",
    "  # low and high keep track of which part of the list you'll search in.\n",
    "  low = 0\n",
    "  high = len(list) - 1\n",
    "\n",
    "  # While you haven't narrowed it down to one element ...\n",
    "  while low <= high:\n",
    "    # ... check the middle element\n",
    "    mid = (low + high) // 2\n",
    "    guess = list[mid]\n",
    "    # Found the item.\n",
    "    if guess == item:\n",
    "      return mid\n",
    "    # The guess was too high.\n",
    "    if guess > item:\n",
    "      high = mid - 1\n",
    "    # The guess was too low.\n",
    "    else:\n",
    "      low = mid + 1\n",
    "\n",
    "  # Item doesn't exist\n",
    "  return None\n"
   ]
  },
  {
   "cell_type": "markdown",
   "metadata": {},
   "source": [
    "# Use sort and search algorithms on variable-length integer arrays."
   ]
  },
  {
   "cell_type": "code",
   "execution_count": 19,
   "metadata": {},
   "outputs": [
    {
     "name": "stdout",
     "output_type": "stream",
     "text": [
      "512\n",
      "Sorting time took 5.200000000016303e-05 seconds.\n",
      "1024\n",
      "Sorting time took 7.999999999963592e-05 seconds.\n",
      "2048\n",
      "Sorting time took 0.00017800000000001148 seconds.\n",
      "4096\n",
      "Sorting time took 0.00037399999999987443 seconds.\n",
      "8192\n",
      "Sorting time took 0.0008140000000000924 seconds.\n"
     ]
    }
   ],
   "source": [
    "# Sort each array, ascending\n",
    "arrays, array_lengths = reset_arrays()\n",
    "sort_times = []\n",
    "\n",
    "for i in range(len(arrays)):\n",
    "    array = arrays[i] #define the array\n",
    "    print(len(array))\n",
    "    t1 = process_time()\n",
    "    array.sort() #sort the array - `reverse` parameter is optional if we wanted to sort descending\n",
    "    t2 = process_time()\n",
    "    elapsed = t2-t1\n",
    "    sort_times.append(elapsed)\n",
    "    print(f'Sorting time took {elapsed} seconds.')"
   ]
  },
  {
   "cell_type": "code",
   "execution_count": 20,
   "metadata": {},
   "outputs": [
    {
     "name": "stdout",
     "output_type": "stream",
     "text": [
      "Sort and binary search for unsorted array of length 512: 0.000256000000000256 seconds.\n",
      "Sort and binary search for unsorted array of length 1024: 0.0007139999999994373 seconds.\n",
      "Sort and binary search for unsorted array of length 2048: 0.0008319999999999439 seconds.\n",
      "Sort and binary search for unsorted array of length 4096: 0.0014959999999994977 seconds.\n",
      "Sort and binary search for unsorted array of length 8192: 0.0027359999999996276 seconds.\n"
     ]
    }
   ],
   "source": [
    "# Binary search plus sort on unsorted array\n",
    "binary_sort_and_search_times = []\n",
    "arrays, array_lengths = reset_arrays()\n",
    "\n",
    "for i in range(len(arrays)):\n",
    "    array = arrays[i]\n",
    "    array_length = len(array)\n",
    "    \n",
    "    t1 = process_time()\n",
    "    array.sort()\n",
    "    binary_search(array, max(array))\n",
    "    t2 = process_time()\n",
    "    \n",
    "    elapsed = t2-t1\n",
    "    binary_sort_and_search_times.append(elapsed)\n",
    "    print(f'Sort and binary search for unsorted array of length {array_length}: {elapsed} seconds.')"
   ]
  },
  {
   "cell_type": "code",
   "execution_count": 21,
   "metadata": {},
   "outputs": [
    {
     "name": "stdout",
     "output_type": "stream",
     "text": [
      "Binary search for unsorted array of length 512: 0.00025000000000030553 seconds.\n",
      "Binary search for unsorted array of length 1024: 0.0003800000000007131 seconds.\n",
      "Binary search for unsorted array of length 2048: 0.0008300000000005525 seconds.\n",
      "Binary search for unsorted array of length 4096: 0.0015559999999998908 seconds.\n",
      "Binary search for unsorted array of length 8192: 0.002056000000000502 seconds.\n"
     ]
    }
   ],
   "source": [
    "# Binary search on the sorted array\n",
    "binary_sorted_search_times = []\n",
    "arrays, array_lengths = reset_arrays()\n",
    "for i in range(len(arrays)):\n",
    "    array = arrays[i]\n",
    "    array_length = len(array)\n",
    "    array.sort() #sorting before timer\n",
    "    \n",
    "    t1 = process_time()\n",
    "    binary_search(array, max(array))\n",
    "    t2 = process_time()\n",
    "    \n",
    "    elapsed = t2-t1\n",
    "    binary_sorted_search_times.append(elapsed)\n",
    "    print(f'Binary search for unsorted array of length {array_length}: {elapsed} seconds.')"
   ]
  },
  {
   "cell_type": "code",
   "execution_count": 34,
   "metadata": {},
   "outputs": [
    {
     "name": "stdout",
     "output_type": "stream",
     "text": [
      "Linear search for sorted array of length 512: 1.600000000046009e-05 seconds.\n",
      "Linear search for sorted array of length 1024: 9.999999999621423e-06 seconds.\n",
      "Linear search for sorted array of length 2048: 8.000000000230045e-06 seconds.\n",
      "Linear search for sorted array of length 4096: 9.999999999621423e-06 seconds.\n",
      "Linear search for sorted array of length 8192: 1.8000000000739647e-05 seconds.\n"
     ]
    }
   ],
   "source": [
    "#Linear search on the sorted array\n",
    "linear_search_times = []\n",
    "arrays, array_lengths = reset_arrays()\n",
    "for i in range(len(arrays)):\n",
    "    array = arrays[i]\n",
    "    array_length = len(array)\n",
    "    array.sort()\n",
    "    \n",
    "    #Only looking for the processing time of the sorted array, which is why I didn't take the timestamp earlier\n",
    "    t1 = process_time()\n",
    "    max_linear_search(array)\n",
    "    t2 = process_time()\n",
    "    \n",
    "    elapsed = t2-t1\n",
    "    linear_search_times.append(elapsed)\n",
    "    print(f'Linear search for sorted array of length {array_length}: {elapsed} seconds.')"
   ]
  },
  {
   "cell_type": "markdown",
   "metadata": {},
   "source": [
    "### Make a dataframe of the results\n",
    "\n",
    "For the sake of the assignment, I left time as originally placed (six decimals). The assignment calls for milliseconds, but rounding would leave all times at 0."
   ]
  },
  {
   "cell_type": "code",
   "execution_count": 68,
   "metadata": {},
   "outputs": [
    {
     "data": {
      "text/html": [
       "<div>\n",
       "<style scoped>\n",
       "    .dataframe tbody tr th:only-of-type {\n",
       "        vertical-align: middle;\n",
       "    }\n",
       "\n",
       "    .dataframe tbody tr th {\n",
       "        vertical-align: top;\n",
       "    }\n",
       "\n",
       "    .dataframe thead th {\n",
       "        text-align: right;\n",
       "    }\n",
       "</style>\n",
       "<table border=\"1\" class=\"dataframe\">\n",
       "  <thead>\n",
       "    <tr style=\"text-align: right;\">\n",
       "      <th></th>\n",
       "      <th>array_length</th>\n",
       "      <th>sort_time</th>\n",
       "      <th>linear_search</th>\n",
       "      <th>binary_search</th>\n",
       "      <th>binary_sort_and_search</th>\n",
       "    </tr>\n",
       "  </thead>\n",
       "  <tbody>\n",
       "    <tr>\n",
       "      <td>0</td>\n",
       "      <td>512</td>\n",
       "      <td>0.000052</td>\n",
       "      <td>0.000016</td>\n",
       "      <td>0.000250</td>\n",
       "      <td>0.000256</td>\n",
       "    </tr>\n",
       "    <tr>\n",
       "      <td>1</td>\n",
       "      <td>1024</td>\n",
       "      <td>0.000080</td>\n",
       "      <td>0.000010</td>\n",
       "      <td>0.000380</td>\n",
       "      <td>0.000714</td>\n",
       "    </tr>\n",
       "    <tr>\n",
       "      <td>2</td>\n",
       "      <td>2048</td>\n",
       "      <td>0.000178</td>\n",
       "      <td>0.000008</td>\n",
       "      <td>0.000830</td>\n",
       "      <td>0.000832</td>\n",
       "    </tr>\n",
       "    <tr>\n",
       "      <td>3</td>\n",
       "      <td>4096</td>\n",
       "      <td>0.000374</td>\n",
       "      <td>0.000010</td>\n",
       "      <td>0.001556</td>\n",
       "      <td>0.001496</td>\n",
       "    </tr>\n",
       "    <tr>\n",
       "      <td>4</td>\n",
       "      <td>8192</td>\n",
       "      <td>0.000814</td>\n",
       "      <td>0.000018</td>\n",
       "      <td>0.002056</td>\n",
       "      <td>0.002736</td>\n",
       "    </tr>\n",
       "  </tbody>\n",
       "</table>\n",
       "</div>"
      ],
      "text/plain": [
       "   array_length  sort_time  linear_search  binary_search  \\\n",
       "0           512   0.000052       0.000016       0.000250   \n",
       "1          1024   0.000080       0.000010       0.000380   \n",
       "2          2048   0.000178       0.000008       0.000830   \n",
       "3          4096   0.000374       0.000010       0.001556   \n",
       "4          8192   0.000814       0.000018       0.002056   \n",
       "\n",
       "   binary_sort_and_search  \n",
       "0                0.000256  \n",
       "1                0.000714  \n",
       "2                0.000832  \n",
       "3                0.001496  \n",
       "4                0.002736  "
      ]
     },
     "execution_count": 68,
     "metadata": {},
     "output_type": "execute_result"
    }
   ],
   "source": [
    "df = pd.DataFrame(list(zip(array_lengths, sort_times, linear_search_times,\n",
    "                           binary_sorted_search_times, binary_sort_and_search_times)),\n",
    "                 columns=['array_length','sort_time','linear_search','binary_search','binary_sort_and_search'])\n",
    "df"
   ]
  },
  {
   "cell_type": "markdown",
   "metadata": {},
   "source": [
    "# Plot the results\n",
    "We expect to see the relative complexity of binary and linear search on sorted arrays as well as binary sort-and-search."
   ]
  },
  {
   "cell_type": "markdown",
   "metadata": {},
   "source": [
    "**Use python matplotlib or Seaborn to generate a plot with the size of the random number array on the horizontal axis and with execution time in milliseconds on the vertical axis. The plot should show execution time against array size for linear and binary search algorithms alone.  Discuss the results.**\n",
    "\n",
    "---------------\n",
    "\n",
    "**Use Python matplotlib or Seaborn to generate a measure of the size of the data set on the horizontal axis and with execution time in milliseconds on the vertical axis. The plot should show execution time against array size for each form of the algorithm being tested (last four columns of the table).  Discuss the results.**\n"
   ]
  },
  {
   "cell_type": "code",
   "execution_count": 65,
   "metadata": {},
   "outputs": [
    {
     "data": {
      "image/png": "[encoded data removed]",
      "text/plain": [
       "<Figure size 432x288 with 1 Axes>"
      ]
     },
     "metadata": {
      "needs_background": "light"
     },
     "output_type": "display_data"
    },
    {
     "data": {
      "image/png": "[encoded data removed]",
      "text/plain": [
       "<Figure size 432x288 with 1 Axes>"
      ]
     },
     "metadata": {
      "needs_background": "light"
     },
     "output_type": "display_data"
    }
   ],
   "source": [
    "#Size of the random number array on the horizontal axis, execution time on vertical axis.\n",
    "\n",
    "ax = sns.lineplot(x=\"array_length\", y=\"binary_search\", data=df)\n",
    "plt.title('Binary Search Times on Sorted Array', fontsize=18)\n",
    "plt.xlabel('Array Length', fontsize=12)\n",
    "plt.ylabel('Binary Search Time', fontsize=12)\n",
    "plt.xticks([512, 1024, 2048, 4096, 8192], rotation=30)\n",
    "plt.show()\n",
    "\n",
    "ax = sns.lineplot(x='array_length', y='linear_search',data=df)\n",
    "plt.title('Linear Search on Sorted Array', fontsize=20)\n",
    "plt.xlabel('Array Length', fontsize=12)\n",
    "plt.ylabel('Linear Search Time', fontsize=12)\n",
    "plt.xticks([512, 1024, 2048, 4096, 8192], rotation=30)\n",
    "plt.show()"
   ]
  },
  {
   "cell_type": "markdown",
   "metadata": {},
   "source": [
    "Because these have such different scales, I'm going to plot them separately."
   ]
  },
  {
   "cell_type": "markdown",
   "metadata": {},
   "source": [
    "The odd thing we see here is that searching for length 512 and length 8192 have the same time, while 1024 has an intermediate time between arrays of length 512 and 2048. I'm not sure what could be to blame for this since the arrays come pre-sorted by the time the initial timestamp is taken and the only operation being performed on a given array is the max_linear_search() function defined earlier.\n",
    "\n",
    "I've asked the class about this anomaly, since we don't expect it, but these appear to be what the search times are."
   ]
  },
  {
   "cell_type": "code",
   "execution_count": 86,
   "metadata": {},
   "outputs": [
    {
     "data": {
      "image/png": "[encoded data removed]",
      "text/plain": [
       "<Figure size 432x288 with 1 Axes>"
      ]
     },
     "metadata": {
      "needs_background": "light"
     },
     "output_type": "display_data"
    }
   ],
   "source": [
    "ax = sns.lineplot(x='array_length', y='sort_time', data=df)\n",
    "ax = sns.lineplot(x='array_length', y='linear_search', data=df)\n",
    "ax = sns.lineplot(x='array_length', y='binary_search', data=df)\n",
    "ax = sns.lineplot(x='array_length', y='binary_sort_and_search', data=df)\n",
    "ax.legend(['Sort Only','Linear Search (Sorted)','Binary Search (Sorted)','Binary Sort and Search'])\n",
    "\n",
    "plt.title('Execution Time for \\nSearch and Sort Algorithms', fontsize=18)\n",
    "plt.ylabel('Execution Time')\n",
    "plt.xlabel('Array Length')\n",
    "plt.xticks([512,1024,2048,4096,8192], rotation=30)\n",
    "\n",
    "plt.show()"
   ]
  },
  {
   "cell_type": "markdown",
   "metadata": {},
   "source": [
    "I kept these four on the same graph, unlike above, to show the relative differences between them (whereas each of the above plots showed intra-method differences regarding array length).\n",
    "\n",
    "Prepare an executive summary of your results, referring to the table and figures you have generated. Explain how your results relate to big O notation. Describe your results in language that management can understand. This summary should be included as text paragraphs in the Jupyter notebook. Explain how the algorithm works and why it is a useful to data engineers.\n",
    "\n",
    "Program code should conform to best practices in software development, as described in the coding/software development textbook used in the course.\n",
    "\n",
    "Set up a personal computer-based Git repository (or private repository on Github) for your work with algorithms this term. Beginning with this week's mini programming assignment, utilize Git as you work on software development.\n",
    "\n"
   ]
  },
  {
   "cell_type": "markdown",
   "metadata": {},
   "source": [
    "# Results\n",
    "Hello"
   ]
  },
  {
   "cell_type": "markdown",
   "metadata": {},
   "source": [
    "## How it relates to Big O"
   ]
  },
  {
   "cell_type": "markdown",
   "metadata": {},
   "source": [
    "One of the most important parts of data engineering is making sure that code scales effectively. This means that when searching for a particular result, data engineers should be mindful of performance under stress, including what happens when the data becomes large enough to potentially cause an issue.\n",
    "\n",
    "\"Big O\" notation is a solution to this issue - it describes algorithms in a way that specifically calls on their ability to scale, providing a worst-case run time. The complexity of the linear search is O(n), meaning the worst case is that the worst case is that the algorithm checks the value for each element in a given array (sorted or not). The complexity for binary search on a sorted array is O($log_{2}$(n)) - please note that this is log base-2. Complexity of O(log(n)) is to say that the number of operations will not exceed the minimum exponent to which 2 should be raised to meet or exeed the number. (i.e. if there are anywhere from 33 to 64 elements, it will be 6 because it is more than 2^5)."
   ]
  },
  {
   "cell_type": "markdown",
   "metadata": {},
   "source": [
    "## How binary search works and why it is useful to data engineers"
   ]
  },
  {
   "cell_type": "markdown",
   "metadata": {},
   "source": [
    "Binary search requires a sorted array in order to search for a value. It must be sorted beause binary search relies on dividing the array and eliminating search ranges based on the value of the searched value and the median value in the remaining array.\n",
    "\n",
    "Binary search can massively cut down on the potential runtime for a search algorithm - as Bhargava details in his text, an array of 4,000,000,000 would take, worst-case, 4,000,000,000 operations to search, whereas the worst-case for binary search is 32. The longer the list (the more the data scales), the bigger difference there will be between linear and binary search methods."
   ]
  }
 ],
 "metadata": {
  "kernelspec": {
   "display_name": "Python 3",
   "language": "python",
   "name": "python3"
  },
  "language_info": {
   "codemirror_mode": {
    "name": "ipython",
    "version": 3
   },
   "file_extension": ".py",
   "mimetype": "text/x-python",
   "name": "python",
   "nbconvert_exporter": "python",
   "pygments_lexer": "ipython3",
   "version": "3.7.4"
  }
 },
 "nbformat": 4,
 "nbformat_minor": 2
}
