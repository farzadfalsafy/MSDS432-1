{
 "cells": [
  {
   "cell_type": "markdown",
   "metadata": {},
   "source": [
    "## Import Dependencies"
   ]
  },
  {
   "cell_type": "code",
   "execution_count": 4,
   "metadata": {},
   "outputs": [],
   "source": [
    "import pandas as pd\n",
    "import numpy as np\n",
    "import time\n",
    "from functools import reduce\n",
    "import matplotlib.pyplot as plt\n",
    "import seaborn as sns"
   ]
  },
  {
   "cell_type": "code",
   "execution_count": 5,
   "metadata": {},
   "outputs": [],
   "source": [
    "def fact(x):\n",
    "  if x == 1:\n",
    "    return 1\n",
    "  else:\n",
    "    return x * fact(x-1)"
   ]
  },
  {
   "cell_type": "markdown",
   "metadata": {},
   "source": [
    "## Create Array and Write FOR Loop to Get Factorials"
   ]
  },
  {
   "cell_type": "code",
   "execution_count": 6,
   "metadata": {},
   "outputs": [],
   "source": [
    "# Set seed for replicability and \n",
    "np.random.seed(14)\n",
    "array = list(np.random.randint(low=100, high=500, size=10))"
   ]
  },
  {
   "cell_type": "code",
   "execution_count": 7,
   "metadata": {},
   "outputs": [],
   "source": [
    "# Use a FOR loop to get factorials\n",
    "for_loop_executiontimes = []\n",
    "for_factorials = []\n",
    "for i in array:\n",
    "    number = i\n",
    "    factorial = 1\n",
    "    t1 = time.perf_counter()\n",
    "    for k in range(1, number+1):\n",
    "        factorial = factorial*k\n",
    "        for_factorials.append(factorial)\n",
    "    t2 = time.perf_counter()\n",
    "    execution = t2-t1\n",
    "    for_loop_executiontimes.append(execution)\n",
    "#     print(f'Factorial of {i} is {factorial}')"
   ]
  },
  {
   "cell_type": "code",
   "execution_count": 8,
   "metadata": {},
   "outputs": [
    {
     "name": "stdout",
     "output_type": "stream",
     "text": [
      "0.0012396000000052254\n",
      "0.00045149999999694046\n",
      "0.00017660000000319087\n",
      "0.0002001000000007025\n",
      "0.00016680000000235395\n",
      "0.00023870000001124936\n",
      "0.00016770000000576601\n",
      "0.0001354999999989559\n",
      "0.0001316000000031181\n",
      "0.0001546000000018921\n"
     ]
    },
    {
     "name": "stderr",
     "output_type": "stream",
     "text": [
      "C:\\Users\\TJ\\Anaconda3\\lib\\site-packages\\ipykernel_launcher.py:5: RuntimeWarning: overflow encountered in long_scalars\n",
      "  \"\"\"\n"
     ]
    }
   ],
   "source": [
    "# Use recursion to get factorials -- code taken from https://github.com/egonSchiele/grokking_algorithms/blob/master/03_recursion/python/03_factorial.py\n",
    "\n",
    "recursion_times = []\n",
    "recursion_factorials = []\n",
    "for i in array:\n",
    "    t1 = time.perf_counter()\n",
    "    factorial = fact(i)\n",
    "    t2 = time.perf_counter()\n",
    "    execution = t2-t1\n",
    "    recursion_factorials.append(factorial)\n",
    "    recursion_times.append(execution)\n",
    "    print(execution)"
   ]
  },
  {
   "cell_type": "code",
   "execution_count": null,
   "metadata": {},
   "outputs": [],
   "source": []
  }
 ],
 "metadata": {
  "kernelspec": {
   "display_name": "Python 3",
   "language": "python",
   "name": "python3"
  },
  "language_info": {
   "codemirror_mode": {
    "name": "ipython",
    "version": 3
   },
   "file_extension": ".py",
   "mimetype": "text/x-python",
   "name": "python",
   "nbconvert_exporter": "python",
   "pygments_lexer": "ipython3",
   "version": "3.7.4"
  }
 },
 "nbformat": 4,
 "nbformat_minor": 2
}
