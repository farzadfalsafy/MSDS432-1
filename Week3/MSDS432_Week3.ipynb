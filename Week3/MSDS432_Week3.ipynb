{
 "cells": [
  {
   "cell_type": "markdown",
   "metadata": {},
   "source": [
    "## Import Dependencies"
   ]
  },
  {
   "cell_type": "code",
   "execution_count": 4,
   "metadata": {},
   "outputs": [],
   "source": [
    "import pandas as pd\n",
    "import numpy as np\n",
    "import time\n",
    "import matplotlib.pyplot as plt\n",
    "import seaborn as sns\n",
    "import os\n",
    "import sys\n",
    "from pathlib import Path"
   ]
  },
  {
   "cell_type": "code",
   "execution_count": 5,
   "metadata": {},
   "outputs": [],
   "source": [
    "# Code taken from: https://github.com/egonSchiele/grokking_algorithms/blob/master/03_recursion/python/03_factorial.py\n",
    "def fact(x):\n",
    "  if x == 1:\n",
    "    return 1\n",
    "  else:\n",
    "    return x * fact(x-1)"
   ]
  },
  {
   "cell_type": "markdown",
   "metadata": {},
   "source": [
    "## Create Array and Write FOR Loop to Get Factorials"
   ]
  },
  {
   "cell_type": "code",
   "execution_count": 6,
   "metadata": {},
   "outputs": [],
   "source": [
    "# Set seed for replicability\n",
    "np.random.seed(14)\n",
    "nums = list(np.random.randint(low=100, high=500, size=10))"
   ]
  },
  {
   "cell_type": "code",
   "execution_count": 7,
   "metadata": {},
   "outputs": [],
   "source": [
    "# Use a FOR loop to get factorials\n",
    "for_loop_times = []\n",
    "for_factorials = []\n",
    "# for i in nums:\n",
    "#     number = i\n",
    "#     factorial = 1\n",
    "#     t1 = time.perf_counter()\n",
    "#     for k in range(1, number+1):\n",
    "#         factorial = factorial*k\n",
    "#         for_factorials.append(factorial)\n",
    "#     t2 = time.perf_counter()\n",
    "#     execution = t2-t1\n",
    "#     for_loop_executiontimes.append(execution)\n",
    "#     print(f'Factorial of {i} is {factorial}')\n",
    "\n",
    "for i in nums:\n",
    "    fac=1\n",
    "    execution = 0\n",
    "    for k in range(1,i+1):\n",
    "        t1 = time.perf_counter()\n",
    "        fac = fac*k\n",
    "        t2 = time.perf_counter()\n",
    "        execution = t2-t1\n",
    "    for_loop_times.append(execution)\n",
    "    for_factorials.append(fac)"
   ]
  },
  {
   "cell_type": "markdown",
   "metadata": {},
   "source": [
    "## Use Recursive Function to Get Factorials"
   ]
  },
  {
   "cell_type": "code",
   "execution_count": 8,
   "metadata": {},
   "outputs": [
    {
     "name": "stdout",
     "output_type": "stream",
     "text": [
      "0.0002693909999607058\n",
      "0.00019892300008450547\n",
      "7.594800001697877e-05\n",
      "9.071900001345057e-05\n",
      "6.989599989992712e-05\n",
      "0.00010920800002622855\n",
      "6.636700004492013e-05\n",
      "4.640400004518597e-05\n",
      "6.292000000485132e-05\n",
      "9.141300006376696e-05\n"
     ]
    }
   ],
   "source": [
    "# Use recursion to get factorials -- code taken from \n",
    "# Using a python list here instead of output of np.random.randint() to avoid long_scalars overflow RuntimeWarning\n",
    "# Warning arises because of bit limitations of np.int32 and np.int64 dtypes, which do not arise in python-native integer dtypes\n",
    "recursion_times = []\n",
    "recursion_factorials = []\n",
    "\n",
    "for i in [207, 444, 368, 427, 349, 458, 334, 256, 238, 308]:\n",
    "    t1 = time.perf_counter()\n",
    "    factorial = fact(i)\n",
    "    t2 = time.perf_counter()\n",
    "    execution = t2-t1\n",
    "    recursion_factorials.append(factorial)\n",
    "    recursion_times.append(execution)\n",
    "    print(execution)\n",
    "\n",
    "# Check that factorials computed recursively are the same as those computed using a for-loop.\n",
    "if recursion_factorials != for_factorials:\n",
    "    raise ValueError('Factorial sets made from recursion and for looping are not equal. Take a harder look at how each was computed.')"
   ]
  },
  {
   "cell_type": "markdown",
   "metadata": {},
   "source": [
    "## Make and Visualize a DataFrame with Timing Results"
   ]
  },
  {
   "cell_type": "code",
   "execution_count": 9,
   "metadata": {},
   "outputs": [],
   "source": [
    "# Subtract for-loop times from recursion times for differentials\n",
    "diffs = [recursion_times - for_loop_times for recursion_times, for_loop_times in zip(recursion_times, for_loop_times)]"
   ]
  },
  {
   "cell_type": "code",
   "execution_count": 10,
   "metadata": {},
   "outputs": [
    {
     "data": {
      "text/html": [
       "<div>\n",
       "<style scoped>\n",
       "    .dataframe tbody tr th:only-of-type {\n",
       "        vertical-align: middle;\n",
       "    }\n",
       "\n",
       "    .dataframe tbody tr th {\n",
       "        vertical-align: top;\n",
       "    }\n",
       "\n",
       "    .dataframe thead th {\n",
       "        text-align: right;\n",
       "    }\n",
       "</style>\n",
       "<table border=\"1\" class=\"dataframe\">\n",
       "  <thead>\n",
       "    <tr style=\"text-align: right;\">\n",
       "      <th></th>\n",
       "      <th>number</th>\n",
       "      <th>recursive_compute</th>\n",
       "      <th>for_loop_compute</th>\n",
       "      <th>compute_diff</th>\n",
       "    </tr>\n",
       "  </thead>\n",
       "  <tbody>\n",
       "    <tr>\n",
       "      <td>0</td>\n",
       "      <td>207</td>\n",
       "      <td>0.000269</td>\n",
       "      <td>3.880000e-07</td>\n",
       "      <td>0.000269</td>\n",
       "    </tr>\n",
       "    <tr>\n",
       "      <td>1</td>\n",
       "      <td>444</td>\n",
       "      <td>0.000199</td>\n",
       "      <td>5.940000e-07</td>\n",
       "      <td>0.000198</td>\n",
       "    </tr>\n",
       "    <tr>\n",
       "      <td>2</td>\n",
       "      <td>368</td>\n",
       "      <td>0.000076</td>\n",
       "      <td>3.640000e-07</td>\n",
       "      <td>0.000076</td>\n",
       "    </tr>\n",
       "    <tr>\n",
       "      <td>3</td>\n",
       "      <td>427</td>\n",
       "      <td>0.000091</td>\n",
       "      <td>4.490000e-07</td>\n",
       "      <td>0.000090</td>\n",
       "    </tr>\n",
       "    <tr>\n",
       "      <td>4</td>\n",
       "      <td>349</td>\n",
       "      <td>0.000070</td>\n",
       "      <td>3.120000e-07</td>\n",
       "      <td>0.000070</td>\n",
       "    </tr>\n",
       "    <tr>\n",
       "      <td>5</td>\n",
       "      <td>458</td>\n",
       "      <td>0.000109</td>\n",
       "      <td>4.390000e-07</td>\n",
       "      <td>0.000109</td>\n",
       "    </tr>\n",
       "    <tr>\n",
       "      <td>6</td>\n",
       "      <td>334</td>\n",
       "      <td>0.000066</td>\n",
       "      <td>5.570000e-07</td>\n",
       "      <td>0.000066</td>\n",
       "    </tr>\n",
       "    <tr>\n",
       "      <td>7</td>\n",
       "      <td>256</td>\n",
       "      <td>0.000046</td>\n",
       "      <td>4.100000e-07</td>\n",
       "      <td>0.000046</td>\n",
       "    </tr>\n",
       "    <tr>\n",
       "      <td>8</td>\n",
       "      <td>238</td>\n",
       "      <td>0.000063</td>\n",
       "      <td>3.940000e-07</td>\n",
       "      <td>0.000063</td>\n",
       "    </tr>\n",
       "    <tr>\n",
       "      <td>9</td>\n",
       "      <td>308</td>\n",
       "      <td>0.000091</td>\n",
       "      <td>5.030000e-07</td>\n",
       "      <td>0.000091</td>\n",
       "    </tr>\n",
       "  </tbody>\n",
       "</table>\n",
       "</div>"
      ],
      "text/plain": [
       "   number  recursive_compute  for_loop_compute  compute_diff\n",
       "0     207           0.000269      3.880000e-07      0.000269\n",
       "1     444           0.000199      5.940000e-07      0.000198\n",
       "2     368           0.000076      3.640000e-07      0.000076\n",
       "3     427           0.000091      4.490000e-07      0.000090\n",
       "4     349           0.000070      3.120000e-07      0.000070\n",
       "5     458           0.000109      4.390000e-07      0.000109\n",
       "6     334           0.000066      5.570000e-07      0.000066\n",
       "7     256           0.000046      4.100000e-07      0.000046\n",
       "8     238           0.000063      3.940000e-07      0.000063\n",
       "9     308           0.000091      5.030000e-07      0.000091"
      ]
     },
     "execution_count": 10,
     "metadata": {},
     "output_type": "execute_result"
    }
   ],
   "source": [
    "df = pd.DataFrame(\n",
    "        {\n",
    "        'number' : nums\n",
    "        ,'recursive_compute' : recursion_times\n",
    "        ,'for_loop_compute'  : for_loop_times\n",
    "        ,'compute_diff'      : diffs\n",
    "        })\n",
    "df"
   ]
  },
  {
   "cell_type": "markdown",
   "metadata": {},
   "source": [
    "The assignment called for the dataframe to have the factorial included, but pandas had issues with the large integers.\n",
    "\n",
    "The original numbers should hold a reasonable approximation to compare compute times, and the assignment does not call for visualization of the factorials on any scale, so I have opted to accept this pandas limitation."
   ]
  },
  {
   "cell_type": "markdown",
   "metadata": {},
   "source": [
    "## Visualization"
   ]
  },
  {
   "cell_type": "code",
   "execution_count": 11,
   "metadata": {},
   "outputs": [
    {
     "data": {
      "image/png": "[encoded data removed]",
      "text/plain": [
       "<Figure size 432x288 with 1 Axes>"
      ]
     },
     "metadata": {
      "needs_background": "light"
     },
     "output_type": "display_data"
    }
   ],
   "source": [
    "ax = sns.lineplot(x='number', y='recursive_compute', data=df)\n",
    "ax = sns.lineplot(x='number', y='for_loop_compute', data=df)\n",
    "ax.legend(['Recursive Factorialization','Looping Factorialization'])\n",
    "\n",
    "plt.title('Execution Time for Factorialization Methods')\n",
    "plt.xlabel('Number to Factorialize')\n",
    "plt.ylabel('Execution Time (seconds)')\n",
    "plt.xticks([0,100,200,300,400,500])\n",
    "plt.show()"
   ]
  },
  {
   "cell_type": "markdown",
   "metadata": {},
   "source": [
    "## Results"
   ]
  },
  {
   "cell_type": "markdown",
   "metadata": {},
   "source": [
    "We see that using recursion for factorialization of numbers between 100 and 500 is more expensive than using a for-loop, and to a good degree. This is expected behavior; recursive factorializing defined here invokes the function once to find that it has not met the condition, then moves onto the next lowest number, creating a (relatively) lengthy call stack. The function then traces back to perform the actual math. The for-loop for this only invokes the last piece of this process, where it performs the multiplication iteratively (since its beginning and end are already defined by the range() method).\n",
    "\n",
    "The complexity of the recursive function would be something on the order of $O(n({log n}))$ (recursing $n$ times and $log(n)$ for the added complexity of deciphering whether a given current case is the base or recursive case until the program reaches 1). whereas the complexity of the iterative function is linear at $O(n)$ (performing one operation for each iteration).\n",
    "\n",
    "The takeaway here is that using iterative factorialization will be more efficient computationally across all cases, but especially as the input grows, specifically at a $log_{2}$ rate."
   ]
  },
  {
   "cell_type": "markdown",
   "metadata": {},
   "source": [
    "## Additional"
   ]
  },
  {
   "cell_type": "markdown",
   "metadata": {},
   "source": [
    "Python has a built in mechanism that limits the number of recursive function calls.  Please modify the recursive factorial function (or write a new one) to allow numbers greater than this limit set by python without modifying the system recursion limit in python.  By this I mean you should not change sys.setrecursionlimit().  See if you can use the number theoretic properties of the factorial function to come up with a solution."
   ]
  },
  {
   "cell_type": "code",
   "execution_count": 47,
   "metadata": {},
   "outputs": [],
   "source": [
    "def fact_altered(x):\n",
    "    num = 1\n",
    "    if x == 2:\n",
    "        return num*2\n",
    "    else:\n",
    "        num = x*num\n",
    "        return num * fact_altered(x-1)"
   ]
  },
  {
   "cell_type": "code",
   "execution_count": 49,
   "metadata": {},
   "outputs": [
    {
     "ename": "RecursionError",
     "evalue": "maximum recursion depth exceeded in comparison",
     "output_type": "error",
     "traceback": [
      "\u001b[0;31m---------------------------------------------------------------------------\u001b[0m",
      "\u001b[0;31mRecursionError\u001b[0m                            Traceback (most recent call last)",
      "\u001b[0;32m<ipython-input-49-cb194643cbf4>\u001b[0m in \u001b[0;36m<module>\u001b[0;34m\u001b[0m\n\u001b[0;32m----> 1\u001b[0;31m \u001b[0mfact_altered\u001b[0m\u001b[0;34m(\u001b[0m\u001b[0;36m50000000000\u001b[0m\u001b[0;34m)\u001b[0m\u001b[0;34m\u001b[0m\u001b[0;34m\u001b[0m\u001b[0m\n\u001b[0m",
      "\u001b[0;32m<ipython-input-47-c35adaaa939d>\u001b[0m in \u001b[0;36mfact_altered\u001b[0;34m(x)\u001b[0m\n\u001b[1;32m      5\u001b[0m     \u001b[0;32melse\u001b[0m\u001b[0;34m:\u001b[0m\u001b[0;34m\u001b[0m\u001b[0;34m\u001b[0m\u001b[0m\n\u001b[1;32m      6\u001b[0m         \u001b[0mnum\u001b[0m \u001b[0;34m=\u001b[0m \u001b[0mx\u001b[0m\u001b[0;34m*\u001b[0m\u001b[0mnum\u001b[0m\u001b[0;34m\u001b[0m\u001b[0;34m\u001b[0m\u001b[0m\n\u001b[0;32m----> 7\u001b[0;31m         \u001b[0;32mreturn\u001b[0m \u001b[0mnum\u001b[0m \u001b[0;34m*\u001b[0m \u001b[0mfact_altered\u001b[0m\u001b[0;34m(\u001b[0m\u001b[0mx\u001b[0m\u001b[0;34m-\u001b[0m\u001b[0;36m1\u001b[0m\u001b[0;34m)\u001b[0m\u001b[0;34m\u001b[0m\u001b[0;34m\u001b[0m\u001b[0m\n\u001b[0m",
      "... last 1 frames repeated, from the frame below ...\n",
      "\u001b[0;32m<ipython-input-47-c35adaaa939d>\u001b[0m in \u001b[0;36mfact_altered\u001b[0;34m(x)\u001b[0m\n\u001b[1;32m      5\u001b[0m     \u001b[0;32melse\u001b[0m\u001b[0;34m:\u001b[0m\u001b[0;34m\u001b[0m\u001b[0;34m\u001b[0m\u001b[0m\n\u001b[1;32m      6\u001b[0m         \u001b[0mnum\u001b[0m \u001b[0;34m=\u001b[0m \u001b[0mx\u001b[0m\u001b[0;34m*\u001b[0m\u001b[0mnum\u001b[0m\u001b[0;34m\u001b[0m\u001b[0;34m\u001b[0m\u001b[0m\n\u001b[0;32m----> 7\u001b[0;31m         \u001b[0;32mreturn\u001b[0m \u001b[0mnum\u001b[0m \u001b[0;34m*\u001b[0m \u001b[0mfact_altered\u001b[0m\u001b[0;34m(\u001b[0m\u001b[0mx\u001b[0m\u001b[0;34m-\u001b[0m\u001b[0;36m1\u001b[0m\u001b[0;34m)\u001b[0m\u001b[0;34m\u001b[0m\u001b[0;34m\u001b[0m\u001b[0m\n\u001b[0m",
      "\u001b[0;31mRecursionError\u001b[0m: maximum recursion depth exceeded in comparison"
     ]
    }
   ],
   "source": [
    "fact_altered(50000)"
   ]
  },
  {
   "cell_type": "markdown",
   "metadata": {},
   "source": [
    "The files on a hard drive are saved in a tree-like structure.  Write a function that will print out every file from a given root using a recursive algorithm.  This is called Directory Tree Traversal (https://www.pythoncentral.io/how-to-traverse-a-directory-tree-in-python-guide-to-os-walk/ (Links to an external site.)).  You may not use any packages to do this (like os.walk, or glob), except to list the files and directories in a single directory.  In other words, you are responsible for the traversal."
   ]
  },
  {
   "cell_type": "code",
   "execution_count": 37,
   "metadata": {},
   "outputs": [],
   "source": [
    "# Set root directory\n",
    "first_root = input('Please input the root directory')\n",
    "file_list = []\n",
    "\n",
    "def printFiles(rootDir):\n",
    "    root = rootDir\n",
    "    files = os.listdir(root)\n",
    "    for i in files:\n",
    "        filepath = \"\".join([root,i,\"/\"])\n",
    "        \n",
    "        # Base case - the file path is a file and not a directory\n",
    "        if not os.path.isdir(filepath):\n",
    "            file_list.append(filepath[:-1]) #Removing final slash from string made in .join() earlier\n",
    "            \n",
    "        # Recursive case - the filepath is itself a directory\n",
    "        else:\n",
    "            printFiles(filepath)"
   ]
  },
  {
   "cell_type": "code",
   "execution_count": 38,
   "metadata": {},
   "outputs": [
    {
     "data": {
      "text/plain": [
       "['/Users/tjwatts/Documents/Pers/.DS_Store',\n",
       " '/Users/tjwatts/Documents/Pers/MSDS432/Week1/.ipynb_checkpoints/MSDS432_Week1-checkpoint.ipynb',\n",
       " '/Users/tjwatts/Documents/Pers/MSDS432/Week1/MSDS432_Week1.ipynb',\n",
       " '/Users/tjwatts/Documents/Pers/MSDS432/Week1/ReadingComprehension_Week1_TJW.docx',\n",
       " '/Users/tjwatts/Documents/Pers/MSDS432/README.md',\n",
       " '/Users/tjwatts/Documents/Pers/MSDS432/Week2/ReadingComprehension_Week2_TJW.docx',\n",
       " '/Users/tjwatts/Documents/Pers/MSDS432/Week2/MSDS432_Week2.ipynb',\n",
       " '/Users/tjwatts/Documents/Pers/MSDS432/Week2/.ipynb_checkpoints/MSDS432_Week2-checkpoint.ipynb',\n",
       " '/Users/tjwatts/Documents/Pers/MSDS432/Week3/~$adingComprehension_Week3_TJW.docx',\n",
       " '/Users/tjwatts/Documents/Pers/MSDS432/Week3/ReadingComprehension_Week3_TJW.docx',\n",
       " '/Users/tjwatts/Documents/Pers/MSDS432/Week3/.ipynb_checkpoints/MSDS432_Week3-checkpoint.ipynb',\n",
       " '/Users/tjwatts/Documents/Pers/MSDS432/Week3/MSDS432_Week3.ipynb',\n",
       " '/Users/tjwatts/Documents/Pers/MSDS432/.git/ORIG_HEAD',\n",
       " '/Users/tjwatts/Documents/Pers/MSDS432/.git/config',\n",
       " '/Users/tjwatts/Documents/Pers/MSDS432/.git/objects/3e/d49ff4289612e28d13c93588473eb64cfd3d7a',\n",
       " '/Users/tjwatts/Documents/Pers/MSDS432/.git/objects/68/fc0efe2fc976f5e3045979b3f7a3be67b1190e',\n",
       " '/Users/tjwatts/Documents/Pers/MSDS432/.git/objects/04/e779f19b83bf69ead2c4abd71c6d6e1660bb35',\n",
       " '/Users/tjwatts/Documents/Pers/MSDS432/.git/objects/32/3cee27ab90d4c9f8174380ccb9672242f5ba7d',\n",
       " '/Users/tjwatts/Documents/Pers/MSDS432/.git/objects/35/ac3b835b8c88862038b1d07b7abdf13a120146',\n",
       " '/Users/tjwatts/Documents/Pers/MSDS432/.git/objects/3d/394057614b20015108902c8f774b18bfbec0b6',\n",
       " '/Users/tjwatts/Documents/Pers/MSDS432/.git/objects/58/3195536baee52f1474eddcb8fcc19d2fbefe67',\n",
       " '/Users/tjwatts/Documents/Pers/MSDS432/.git/objects/0b/e9003211b5ec0ce048ce08c144cc73bd77fae3',\n",
       " '/Users/tjwatts/Documents/Pers/MSDS432/.git/objects/94/9dd4d0777e7cca0377f87ac48f2f14dc61c383',\n",
       " '/Users/tjwatts/Documents/Pers/MSDS432/.git/objects/94/9173e8909b92270f77e9468692c63d02282d9d',\n",
       " '/Users/tjwatts/Documents/Pers/MSDS432/.git/objects/0e/961e723ea4a0dd3b4b465d2d8db52a7d277884',\n",
       " '/Users/tjwatts/Documents/Pers/MSDS432/.git/objects/60/394b30c6c07832458925d34d1707176a7c777f',\n",
       " '/Users/tjwatts/Documents/Pers/MSDS432/.git/objects/34/c0d46b8745bf133007bc12058906114a9dd8b7',\n",
       " '/Users/tjwatts/Documents/Pers/MSDS432/.git/objects/bb/99fe339f0c0ddbca021c4c5ffc8b3c24b287bc',\n",
       " '/Users/tjwatts/Documents/Pers/MSDS432/.git/objects/d1/bb852d59b4eb79398009376b98cbbc72e7e2db',\n",
       " '/Users/tjwatts/Documents/Pers/MSDS432/.git/objects/ab/8301015cd9c61fca000d9ac26db5d9e0816ad6',\n",
       " '/Users/tjwatts/Documents/Pers/MSDS432/.git/objects/e5/8e5659c79dd81692e5a6e26530cc801894da56',\n",
       " '/Users/tjwatts/Documents/Pers/MSDS432/.git/objects/c7/a2b5b63b57afdaeeaa0407c34c106215e4e7a2',\n",
       " '/Users/tjwatts/Documents/Pers/MSDS432/.git/objects/fd/3ce692780be931b8cb69289055b7bc55fa2d73',\n",
       " '/Users/tjwatts/Documents/Pers/MSDS432/.git/objects/fb/73e6ba8a66158a258fd7d0af9725cf6cdb4841',\n",
       " '/Users/tjwatts/Documents/Pers/MSDS432/.git/objects/29/a6122e3fcd16be57fef179de44830b096fb4c3',\n",
       " '/Users/tjwatts/Documents/Pers/MSDS432/.git/objects/42/f5f71ee63cf68274fe7bcc3542b13aaae55e4a',\n",
       " '/Users/tjwatts/Documents/Pers/MSDS432/.git/objects/1f/4ffcccf268e44f3fb8258d6206dcc9542de5af',\n",
       " '/Users/tjwatts/Documents/Pers/MSDS432/.git/objects/1a/39d59417bfbbe9c1a7e229624ac5fa9859ccb2',\n",
       " '/Users/tjwatts/Documents/Pers/MSDS432/.git/objects/1a/a26fac70209d0c4d53d8c759e37ec3d6bd1dbc',\n",
       " '/Users/tjwatts/Documents/Pers/MSDS432/.git/objects/7e/60083c3d02c8682d9d4ea64d6997decdc051b1',\n",
       " '/Users/tjwatts/Documents/Pers/MSDS432/.git/objects/10/56730a51b02baf8bccb3776032037a66c5e452',\n",
       " '/Users/tjwatts/Documents/Pers/MSDS432/.git/objects/21/6a9237bff16fc1db1cfd7071ca8a3377c0778b',\n",
       " '/Users/tjwatts/Documents/Pers/MSDS432/.git/objects/21/388a201c082e5aca635f50326398b852cb7cd9',\n",
       " '/Users/tjwatts/Documents/Pers/MSDS432/.git/objects/75/7af3b724c037218b7c3233fa3b6dfc00fd3022',\n",
       " '/Users/tjwatts/Documents/Pers/MSDS432/.git/objects/81/75827bc215b462c47e35b4f0da4d57476c689e',\n",
       " '/Users/tjwatts/Documents/Pers/MSDS432/.git/objects/86/b3b4efacf050b701cc92e7bc2c9b5b395741b8',\n",
       " '/Users/tjwatts/Documents/Pers/MSDS432/.git/objects/2a/01f40a505211f2ecbd1ac9aecc4bc52e80fe02',\n",
       " '/Users/tjwatts/Documents/Pers/MSDS432/.git/objects/38/f6922bdf199182d2adc07758b83a3977f18aec',\n",
       " '/Users/tjwatts/Documents/Pers/MSDS432/.git/objects/9a/54685c958c07e20b7e9b29f480952bddfa74f2',\n",
       " '/Users/tjwatts/Documents/Pers/MSDS432/.git/objects/65/449f7a2c461319cbaacc42a20d49f656dda980',\n",
       " '/Users/tjwatts/Documents/Pers/MSDS432/.git/objects/98/3dfdfd547b155828f4286a5643e8e077aeb613',\n",
       " '/Users/tjwatts/Documents/Pers/MSDS432/.git/objects/53/e9c318862c3de771b0d7a90e8e57310d8f0b00',\n",
       " '/Users/tjwatts/Documents/Pers/MSDS432/.git/objects/5e/dbd2298e358b201bde911af9139f96d6a9b655',\n",
       " '/Users/tjwatts/Documents/Pers/MSDS432/.git/objects/6c/efd3dd0067f45f22fbf1c10d6f24574a4bf0a6',\n",
       " '/Users/tjwatts/Documents/Pers/MSDS432/.git/objects/39/ee8c55b51c6e62462e9e2c4c136fb9c04cc0db',\n",
       " '/Users/tjwatts/Documents/Pers/MSDS432/.git/objects/39/a5edf63132f1a20b3019edda374bbf19a1a9a6',\n",
       " '/Users/tjwatts/Documents/Pers/MSDS432/.git/objects/97/3df676bf2a7a81025e93d43bbe8b8a1ae63083',\n",
       " '/Users/tjwatts/Documents/Pers/MSDS432/.git/objects/0f/2ec980d11a5f1b2d836d2ff69084927ff1a99d',\n",
       " '/Users/tjwatts/Documents/Pers/MSDS432/.git/objects/0a/043a7040e187b72bc29f4f26b059a83dc0fcac',\n",
       " '/Users/tjwatts/Documents/Pers/MSDS432/.git/objects/90/22cb4e91a6f55dddc3a4d0b46e534ae4a92f7d',\n",
       " '/Users/tjwatts/Documents/Pers/MSDS432/.git/objects/d3/00b09c6d9e20a0ec645f83073c9c37c2add5f9',\n",
       " '/Users/tjwatts/Documents/Pers/MSDS432/.git/objects/a7/7181e382375ac535f7d467727ba65c3350ff35',\n",
       " '/Users/tjwatts/Documents/Pers/MSDS432/.git/objects/dc/758a93f9907cd3e8d5f7677892366bc1419b49',\n",
       " '/Users/tjwatts/Documents/Pers/MSDS432/.git/objects/a9/3bf4542a9473278bf96e33af6a3d546fbf9c36',\n",
       " '/Users/tjwatts/Documents/Pers/MSDS432/.git/objects/d2/81261c9a1529479d02219d12da3e8401cff7bd',\n",
       " '/Users/tjwatts/Documents/Pers/MSDS432/.git/objects/de/ccd6b304c947b061a51d2bcaf7e85b1c928f12',\n",
       " '/Users/tjwatts/Documents/Pers/MSDS432/.git/objects/a6/71b63ec8c4533fe45989d6e4244818804c28d0',\n",
       " '/Users/tjwatts/Documents/Pers/MSDS432/.git/objects/cd/f05444a431a0ca5bca92fb5a3e65162490ea9e',\n",
       " '/Users/tjwatts/Documents/Pers/MSDS432/.git/objects/cc/e7cf8c90355fe18356285d5ba3a4acaa4c4ba9',\n",
       " '/Users/tjwatts/Documents/Pers/MSDS432/.git/objects/ff/2f2c0a4bd35607e08374b257ca1a59721b2db5',\n",
       " '/Users/tjwatts/Documents/Pers/MSDS432/.git/objects/e9/4e4a1cdadb4741455b77038268dc317033b93d',\n",
       " '/Users/tjwatts/Documents/Pers/MSDS432/.git/objects/e0/76df44f3c6c119929f795c10587ebc8a16479a',\n",
       " '/Users/tjwatts/Documents/Pers/MSDS432/.git/objects/2d/0f35158bb33b7ec23808018148fafbc46f347d',\n",
       " '/Users/tjwatts/Documents/Pers/MSDS432/.git/objects/2d/7c99c09e350688c4a1c309a236a21fbedcd549',\n",
       " '/Users/tjwatts/Documents/Pers/MSDS432/.git/objects/77/d35b0ab6c1a24ff03b41e788057559e9037c80',\n",
       " '/Users/tjwatts/Documents/Pers/MSDS432/.git/objects/84/053260e72e0e002ce202bb718fe176a6b6f3fd',\n",
       " '/Users/tjwatts/Documents/Pers/MSDS432/.git/objects/84/98648873a57f81e4f416f65387dc26338cbc41',\n",
       " '/Users/tjwatts/Documents/Pers/MSDS432/.git/objects/4a/71465590c2820beb608ab3044c2d1f6200a0cb',\n",
       " '/Users/tjwatts/Documents/Pers/MSDS432/.git/objects/4f/638979329cd7ecb6b572e3f5fcfdd69b9ccc7d',\n",
       " '/Users/tjwatts/Documents/Pers/MSDS432/.git/objects/15/e70e178f446586ca455bcaa69b7ed172a560b6',\n",
       " '/Users/tjwatts/Documents/Pers/MSDS432/.git/objects/47/f92a72ec78375252f2e39f4810d914354d5cd3',\n",
       " '/Users/tjwatts/Documents/Pers/MSDS432/.git/objects/7f/8a068cbcf32907ea47344f2d0fd11c33bb0082',\n",
       " '/Users/tjwatts/Documents/Pers/MSDS432/.git/HEAD',\n",
       " '/Users/tjwatts/Documents/Pers/MSDS432/.git/info/exclude',\n",
       " '/Users/tjwatts/Documents/Pers/MSDS432/.git/logs/HEAD',\n",
       " '/Users/tjwatts/Documents/Pers/MSDS432/.git/logs/refs/heads/master',\n",
       " '/Users/tjwatts/Documents/Pers/MSDS432/.git/logs/refs/remotes/origin/HEAD',\n",
       " '/Users/tjwatts/Documents/Pers/MSDS432/.git/description',\n",
       " '/Users/tjwatts/Documents/Pers/MSDS432/.git/hooks/commit-msg.sample',\n",
       " '/Users/tjwatts/Documents/Pers/MSDS432/.git/hooks/pre-rebase.sample',\n",
       " '/Users/tjwatts/Documents/Pers/MSDS432/.git/hooks/pre-commit.sample',\n",
       " '/Users/tjwatts/Documents/Pers/MSDS432/.git/hooks/applypatch-msg.sample',\n",
       " '/Users/tjwatts/Documents/Pers/MSDS432/.git/hooks/fsmonitor-watchman.sample',\n",
       " '/Users/tjwatts/Documents/Pers/MSDS432/.git/hooks/pre-receive.sample',\n",
       " '/Users/tjwatts/Documents/Pers/MSDS432/.git/hooks/prepare-commit-msg.sample',\n",
       " '/Users/tjwatts/Documents/Pers/MSDS432/.git/hooks/post-update.sample',\n",
       " '/Users/tjwatts/Documents/Pers/MSDS432/.git/hooks/pre-applypatch.sample',\n",
       " '/Users/tjwatts/Documents/Pers/MSDS432/.git/hooks/pre-push.sample',\n",
       " '/Users/tjwatts/Documents/Pers/MSDS432/.git/hooks/update.sample',\n",
       " '/Users/tjwatts/Documents/Pers/MSDS432/.git/refs/heads/master',\n",
       " '/Users/tjwatts/Documents/Pers/MSDS432/.git/refs/remotes/origin/HEAD',\n",
       " '/Users/tjwatts/Documents/Pers/MSDS432/.git/index',\n",
       " '/Users/tjwatts/Documents/Pers/MSDS432/.git/packed-refs',\n",
       " '/Users/tjwatts/Documents/Pers/MSDS432/.git/FETCH_HEAD']"
      ]
     },
     "execution_count": 38,
     "metadata": {},
     "output_type": "execute_result"
    }
   ],
   "source": [
    "printFiles(first_root)"
   ]
  }
 ],
 "metadata": {
  "kernelspec": {
   "display_name": "Python 3",
   "language": "python",
   "name": "python3"
  },
  "language_info": {
   "codemirror_mode": {
    "name": "ipython",
    "version": 3
   },
   "file_extension": ".py",
   "mimetype": "text/x-python",
   "name": "python",
   "nbconvert_exporter": "python",
   "pygments_lexer": "ipython3",
   "version": "3.7.4"
  }
 },
 "nbformat": 4,
 "nbformat_minor": 2
}
