{
 "cells": [
  {
   "cell_type": "markdown",
   "metadata": {},
   "source": [
    "## Import Dependencies"
   ]
  },
  {
   "cell_type": "code",
   "execution_count": 193,
   "metadata": {},
   "outputs": [],
   "source": [
    "import pandas as pd\n",
    "import numpy as np\n",
    "import time\n",
    "import matplotlib.pyplot as plt\n",
    "import seaborn as sns\n",
    "import os\n",
    "import sys\n",
    "from pathlib import Path\n",
    "from functools import reduce"
   ]
  },
  {
   "cell_type": "code",
   "execution_count": 194,
   "metadata": {},
   "outputs": [],
   "source": [
    "# Code taken from: https://github.com/egonSchiele/grokking_algorithms/blob/master/03_recursion/python/03_factorial.py\n",
    "def fact(x):\n",
    "  if x == 1:\n",
    "    return 1\n",
    "  else:\n",
    "    return x * fact(x-1)"
   ]
  },
  {
   "cell_type": "markdown",
   "metadata": {},
   "source": [
    "## Create Array and Write FOR Loop to Get Factorials"
   ]
  },
  {
   "cell_type": "code",
   "execution_count": 195,
   "metadata": {},
   "outputs": [],
   "source": [
    "# Set seed for replicability\n",
    "np.random.seed(14)\n",
    "nums = list(np.random.randint(low=100, high=500, size=10))"
   ]
  },
  {
   "cell_type": "code",
   "execution_count": 196,
   "metadata": {},
   "outputs": [],
   "source": [
    "# Use a FOR loop to get factorials\n",
    "for_loop_times = []\n",
    "for_factorials = []\n",
    "# for i in nums:\n",
    "#     number = i\n",
    "#     factorial = 1\n",
    "#     t1 = time.perf_counter()\n",
    "#     for k in range(1, number+1):\n",
    "#         factorial = factorial*k\n",
    "#         for_factorials.append(factorial)\n",
    "#     t2 = time.perf_counter()\n",
    "#     execution = t2-t1\n",
    "#     for_loop_executiontimes.append(execution)\n",
    "#     print(f'Factorial of {i} is {factorial}')\n",
    "\n",
    "for i in nums:\n",
    "    fac=1\n",
    "    execution = 0\n",
    "    for k in range(1,i+1):\n",
    "        t1 = time.perf_counter()\n",
    "        fac = fac*k\n",
    "        t2 = time.perf_counter()\n",
    "        execution = t2-t1\n",
    "    for_loop_times.append(execution)\n",
    "    for_factorials.append(fac)"
   ]
  },
  {
   "cell_type": "markdown",
   "metadata": {},
   "source": [
    "## Use Recursive Function to Get Factorials"
   ]
  },
  {
   "cell_type": "code",
   "execution_count": 197,
   "metadata": {},
   "outputs": [],
   "source": [
    "# Use recursion to get factorials -- code taken from \n",
    "# Using a python list here instead of output of np.random.randint() to avoid long_scalars overflow RuntimeWarning\n",
    "# Warning arises because of bit limitations of np.int32 and np.int64 dtypes, which do not arise in python-native integer dtypes\n",
    "recursion_times = []\n",
    "recursion_factorials = []\n",
    "\n",
    "for i in [207, 444, 368, 427, 349, 458, 334, 256, 238, 308]:\n",
    "    t1 = time.perf_counter()\n",
    "    factorial = fact(i)\n",
    "    t2 = time.perf_counter()\n",
    "    execution = t2-t1\n",
    "    recursion_factorials.append(factorial)\n",
    "    recursion_times.append(execution)\n",
    "\n",
    "# Check that factorials computed recursively are the same as those computed using a for-loop.\n",
    "if recursion_factorials != for_factorials:\n",
    "    raise ValueError('Factorial sets made from recursion and for looping are not equal. Take a harder look at how each was computed.')"
   ]
  },
  {
   "cell_type": "markdown",
   "metadata": {},
   "source": [
    "## Make and Visualize a DataFrame with Timing Results"
   ]
  },
  {
   "cell_type": "code",
   "execution_count": 198,
   "metadata": {},
   "outputs": [],
   "source": [
    "# Subtract for-loop times from recursion times for differentials\n",
    "diffs = [recursion_times - for_loop_times for recursion_times, for_loop_times in zip(recursion_times, for_loop_times)]"
   ]
  },
  {
   "cell_type": "code",
   "execution_count": 199,
   "metadata": {},
   "outputs": [
    {
     "data": {
      "text/html": [
       "<div>\n",
       "<style scoped>\n",
       "    .dataframe tbody tr th:only-of-type {\n",
       "        vertical-align: middle;\n",
       "    }\n",
       "\n",
       "    .dataframe tbody tr th {\n",
       "        vertical-align: top;\n",
       "    }\n",
       "\n",
       "    .dataframe thead th {\n",
       "        text-align: right;\n",
       "    }\n",
       "</style>\n",
       "<table border=\"1\" class=\"dataframe\">\n",
       "  <thead>\n",
       "    <tr style=\"text-align: right;\">\n",
       "      <th></th>\n",
       "      <th>number</th>\n",
       "      <th>recursive_compute</th>\n",
       "      <th>for_loop_compute</th>\n",
       "      <th>compute_diff</th>\n",
       "    </tr>\n",
       "  </thead>\n",
       "  <tbody>\n",
       "    <tr>\n",
       "      <td>0</td>\n",
       "      <td>207</td>\n",
       "      <td>0.000054</td>\n",
       "      <td>3.280002e-07</td>\n",
       "      <td>0.000054</td>\n",
       "    </tr>\n",
       "    <tr>\n",
       "      <td>1</td>\n",
       "      <td>444</td>\n",
       "      <td>0.000131</td>\n",
       "      <td>4.220001e-07</td>\n",
       "      <td>0.000131</td>\n",
       "    </tr>\n",
       "    <tr>\n",
       "      <td>2</td>\n",
       "      <td>368</td>\n",
       "      <td>0.000091</td>\n",
       "      <td>4.070007e-07</td>\n",
       "      <td>0.000090</td>\n",
       "    </tr>\n",
       "    <tr>\n",
       "      <td>3</td>\n",
       "      <td>427</td>\n",
       "      <td>0.000111</td>\n",
       "      <td>5.759994e-07</td>\n",
       "      <td>0.000111</td>\n",
       "    </tr>\n",
       "    <tr>\n",
       "      <td>4</td>\n",
       "      <td>349</td>\n",
       "      <td>0.000084</td>\n",
       "      <td>3.770001e-07</td>\n",
       "      <td>0.000084</td>\n",
       "    </tr>\n",
       "    <tr>\n",
       "      <td>5</td>\n",
       "      <td>458</td>\n",
       "      <td>0.000122</td>\n",
       "      <td>3.580008e-07</td>\n",
       "      <td>0.000121</td>\n",
       "    </tr>\n",
       "    <tr>\n",
       "      <td>6</td>\n",
       "      <td>334</td>\n",
       "      <td>0.000078</td>\n",
       "      <td>3.679997e-07</td>\n",
       "      <td>0.000078</td>\n",
       "    </tr>\n",
       "    <tr>\n",
       "      <td>7</td>\n",
       "      <td>256</td>\n",
       "      <td>0.000054</td>\n",
       "      <td>2.979996e-07</td>\n",
       "      <td>0.000054</td>\n",
       "    </tr>\n",
       "    <tr>\n",
       "      <td>8</td>\n",
       "      <td>238</td>\n",
       "      <td>0.000050</td>\n",
       "      <td>2.960005e-07</td>\n",
       "      <td>0.000050</td>\n",
       "    </tr>\n",
       "    <tr>\n",
       "      <td>9</td>\n",
       "      <td>308</td>\n",
       "      <td>0.000071</td>\n",
       "      <td>3.139994e-07</td>\n",
       "      <td>0.000070</td>\n",
       "    </tr>\n",
       "  </tbody>\n",
       "</table>\n",
       "</div>"
      ],
      "text/plain": [
       "   number  recursive_compute  for_loop_compute  compute_diff\n",
       "0     207           0.000054      3.280002e-07      0.000054\n",
       "1     444           0.000131      4.220001e-07      0.000131\n",
       "2     368           0.000091      4.070007e-07      0.000090\n",
       "3     427           0.000111      5.759994e-07      0.000111\n",
       "4     349           0.000084      3.770001e-07      0.000084\n",
       "5     458           0.000122      3.580008e-07      0.000121\n",
       "6     334           0.000078      3.679997e-07      0.000078\n",
       "7     256           0.000054      2.979996e-07      0.000054\n",
       "8     238           0.000050      2.960005e-07      0.000050\n",
       "9     308           0.000071      3.139994e-07      0.000070"
      ]
     },
     "execution_count": 199,
     "metadata": {},
     "output_type": "execute_result"
    }
   ],
   "source": [
    "df = pd.DataFrame(\n",
    "        {\n",
    "        'number' : nums\n",
    "        ,'recursive_compute' : recursion_times\n",
    "        ,'for_loop_compute'  : for_loop_times\n",
    "        ,'compute_diff'      : diffs\n",
    "        })\n",
    "df"
   ]
  },
  {
   "cell_type": "markdown",
   "metadata": {},
   "source": [
    "The assignment called for the dataframe to have the factorial included, but pandas had issues with the large integers.\n",
    "\n",
    "The original numbers should hold a reasonable approximation to compare compute times, and the assignment does not call for visualization of the factorials on any scale, so I have opted to accept this pandas limitation."
   ]
  },
  {
   "cell_type": "markdown",
   "metadata": {},
   "source": [
    "## Visualization"
   ]
  },
  {
   "cell_type": "code",
   "execution_count": 200,
   "metadata": {},
   "outputs": [
    {
     "data": {
      "image/png": "[encoded data removed]",
      "text/plain": [
       "<Figure size 432x288 with 1 Axes>"
      ]
     },
     "metadata": {
      "needs_background": "light"
     },
     "output_type": "display_data"
    }
   ],
   "source": [
    "ax = sns.lineplot(x='number', y='recursive_compute', data=df)\n",
    "ax = sns.lineplot(x='number', y='for_loop_compute', data=df)\n",
    "ax.legend(['Recursive Factorialization','Looping Factorialization'])\n",
    "\n",
    "plt.title('Execution Time for Factorialization Methods')\n",
    "plt.xlabel('Number to Factorialize')\n",
    "plt.ylabel('Execution Time (seconds)')\n",
    "plt.xticks([0,100,200,300,400,500])\n",
    "plt.show()"
   ]
  },
  {
   "cell_type": "markdown",
   "metadata": {},
   "source": [
    "## Results"
   ]
  },
  {
   "cell_type": "markdown",
   "metadata": {},
   "source": [
    "We see that using recursion for factorialization of numbers between 100 and 500 is more expensive than using a for-loop, and to a good degree. This is expected behavior; recursive factorializing defined here invokes the function once to find that it has not met the condition, then moves onto the next lowest number, creating a (relatively) lengthy call stack. The function then traces back to perform the actual math. The for-loop for this only invokes the last piece of this process, where it performs the multiplication iteratively (since its beginning and end are already defined by the range() method).\n",
    "\n",
    "The complexity of the recursive function would be something on the order of $O(n({log n}))$ (recursing $n$ times and $log(n)$ for the added complexity of deciphering whether a given current case is the base or recursive case until the program reaches 1). whereas the complexity of the iterative function is linear at $O(n)$ (performing one operation for each iteration).\n",
    "\n",
    "The takeaway here is that using iterative factorialization will be more efficient computationally across all cases, but especially as the input grows, specifically at a $log_{2}$ rate."
   ]
  },
  {
   "cell_type": "markdown",
   "metadata": {},
   "source": [
    "## Additional Problems - Context Given\n",
    "\n",
    "##### Modify the factorial function or make a new one in order to circumvent the system recursion limit without changing it."
   ]
  },
  {
   "cell_type": "code",
   "execution_count": 201,
   "metadata": {},
   "outputs": [],
   "source": [
    "def chunkIt(num, chnk_size):\n",
    "    out = [] # initialize an empty list for our output lists\n",
    "    last = 0 # initialize at 0 (can't factorialize until 1)\n",
    "\n",
    "    while last < num:\n",
    "        out.append([range(num)[int(last)],range(num+chnk_size)[int(last+chnk_size)]])\n",
    "        last += chnk_size\n",
    "    return out\n",
    "\n",
    "def nolimit_fact(num, chnk_size=2):\n",
    "    \"\"\"\n",
    "    Function that avoids recursion limits\n",
    "    \"\"\"\n",
    "    chunked_range = chunkIt(num,chnk_size)\n",
    "    fact_list = []\n",
    "    \n",
    "    # Make a loop to go through each element of the output of chunking function\n",
    "    for i in chunked_range:\n",
    "        num_list = []\n",
    "        \n",
    "        # Make a loop to get a list of every number between the two\n",
    "        for j in range(i[0],i[1]):\n",
    "            if j == 0:\n",
    "                pass\n",
    "            else:\n",
    "                num_list.append(j)\n",
    "\n",
    "        # Multiply all numbers in the chunked range\n",
    "        fact = reduce(lambda x, y: x*y, num_list)\n",
    "        fact_list.append(fact)\n",
    "\n",
    "    # Multiply all numbers of the final list to get the factorial\n",
    "    final_fact = reduce(lambda x, y: x*y, fact_list)\n",
    "    return final_fact"
   ]
  },
  {
   "cell_type": "markdown",
   "metadata": {},
   "source": [
    "The files on a hard drive are saved in a tree-like structure.  Write a function that will print out every file from a given root using a recursive algorithm.  This is called Directory Tree Traversal (https://www.pythoncentral.io/how-to-traverse-a-directory-tree-in-python-guide-to-os-walk/ (Links to an external site.)).  You may not use any packages to do this (like os.walk, or glob), except to list the files and directories in a single directory.  In other words, you are responsible for the traversal."
   ]
  },
  {
   "cell_type": "code",
   "execution_count": 202,
   "metadata": {},
   "outputs": [],
   "source": [
    "def printFiles(rootDir):\n",
    "    \"\"\"\n",
    "    Function that prints all files in a given directory and its subdirectories.\n",
    "    \"\"\"\n",
    "    file_list = []\n",
    "    # Set root directory\n",
    "    root = rootDir\n",
    "    \n",
    "    files = os.listdir(root)\n",
    "    for i in files:\n",
    "        filepath = \"\".join([root,i,\"/\"])\n",
    "        \n",
    "        # Base case - the file path is a file and not a directory\n",
    "        if not os.path.isdir(filepath):\n",
    "            file_list.append(filepath[:-1]) #Removing final slash from string made in .join() earlier\n",
    "            \n",
    "        # Recursive case - the filepath is itself a directory\n",
    "        else:\n",
    "            printFiles(filepath)\n",
    "    return file_list"
   ]
  }
 ],
 "metadata": {
  "kernelspec": {
   "display_name": "Python 3",
   "language": "python",
   "name": "python3"
  },
  "language_info": {
   "codemirror_mode": {
    "name": "ipython",
    "version": 3
   },
   "file_extension": ".py",
   "mimetype": "text/x-python",
   "name": "python",
   "nbconvert_exporter": "python",
   "pygments_lexer": "ipython3",
   "version": "3.7.4"
  }
 },
 "nbformat": 4,
 "nbformat_minor": 2
}
