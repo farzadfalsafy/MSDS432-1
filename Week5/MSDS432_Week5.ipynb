{
 "cells": [
  {
   "cell_type": "markdown",
   "metadata": {},
   "source": [
    "### Import Dependencies"
   ]
  },
  {
   "cell_type": "code",
   "execution_count": 27,
   "metadata": {},
   "outputs": [],
   "source": [
    "import pandas as pd\n",
    "import numpy as np\n",
    "import matplotlib.pyplot as plt\n",
    "import seaborn as sns\n",
    "# import d3py\n",
    "import networkx as nx\n",
    "import random\n",
    "import string\n",
    "import time"
   ]
  },
  {
   "cell_type": "markdown",
   "metadata": {},
   "source": [
    "## Define Functions to Make and Sort Lists of Random Names of Specified Length"
   ]
  },
  {
   "cell_type": "code",
   "execution_count": 32,
   "metadata": {},
   "outputs": [],
   "source": [
    "def tenthousand_names(name_length):\n",
    "    random.seed(14)\n",
    "    names = [''.join(random.choices(string.ascii_letters, k=name_length)) for j in range(100000)]\n",
    "    if len(set(names)) < 100000:\n",
    "        names = [''.join(random.choices(string.ascii_letters, k=50)) for j in range(100000)]\n",
    "        tenthousand_names(100000)\n",
    "    else:\n",
    "        print('All set!')\n",
    "    return names\n",
    "\n",
    "def quicksort(array):\n",
    "    if len(array) < 2:\n",
    "        # base case, arrays with 0 or 1 element are already \"sorted\"\n",
    "        return array\n",
    "    else:\n",
    "        # recursive case\n",
    "        pivot = array[0]\n",
    "        # sub-array of all the elements less than the pivot\n",
    "        less = [i for i in array[1:] if i <= pivot]\n",
    "        # sub-array of all the elements greater than the pivot\n",
    "        greater = [i for i in array[1:] if i > pivot]\n",
    "    return quicksort(less) + [pivot] + quicksort(greater)"
   ]
  },
  {
   "cell_type": "markdown",
   "metadata": {},
   "source": [
    "## Store Strings in Temporary Array from Given Positions"
   ]
  },
  {
   "cell_type": "code",
   "execution_count": 42,
   "metadata": {},
   "outputs": [],
   "source": [
    "temp_array = []\n",
    "positions = [10000, 30000, 50000, 70000, 90000, 100000]\n",
    "for i in positions:\n",
    "    i -= 1 #adjust for 0-based indexing\n",
    "    ith_name = names_unsorted[i]\n",
    "    temp_array.append(ith_name)"
   ]
  },
  {
   "cell_type": "markdown",
   "metadata": {},
   "source": [
    "## Search for Each String in Temporary Array\n",
    "\n",
    "Use linear search for the unsorted list, binary search for the sorted list, and the .remove() method for the set."
   ]
  },
  {
   "cell_type": "code",
   "execution_count": 43,
   "metadata": {},
   "outputs": [],
   "source": [
    "def linear_search(array, item):\n",
    "    counter = 0\n",
    "    name = ''\n",
    "    while counter+1 < len(array): #while the list is not yet exhausted...\n",
    "        name = array[counter] # set the name equal to the next item in the array...\n",
    "        if name == item: # if the name matches the item...\n",
    "            break        # ...end the loop\n",
    "        else:            # if the name does NOT equal the item...\n",
    "            counter += 1 # increment the counter to get to the next array item...\n",
    "            pass         # ...and restart the loop\n",
    "\n",
    "def binary_search(array, item):\n",
    "  # low and high keep track of which part of the list you'll search in.\n",
    "    low = 0\n",
    "    high = len(array) - 1\n",
    "\n",
    "  # While you haven't narrowed it down to one element ...\n",
    "    while low <= high:\n",
    "    # ... check the middle element\n",
    "        mid = (low + high) // 2\n",
    "        guess = array[mid]\n",
    "    # Found the item.\n",
    "        if guess == item:\n",
    "            return mid\n",
    "    # The guess was too high.\n",
    "        if guess > item:\n",
    "            high = mid - 1\n",
    "    # The guess was too low.\n",
    "        else:\n",
    "            low = mid + 1\n",
    "\n",
    "  # Item doesn't exist\n",
    "    return None"
   ]
  },
  {
   "cell_type": "code",
   "execution_count": 53,
   "metadata": {},
   "outputs": [
    {
     "name": "stdout",
     "output_type": "stream",
     "text": [
      "All set!\n",
      "All set!\n",
      "All set!\n",
      "All executions complete.\n"
     ]
    }
   ],
   "source": [
    "# Generate names so that this cell works every time it is run - not dependent on other cells\n",
    "names_unsorted = tenthousand_names(10)\n",
    "names_set = set(tenthousand_names(10))\n",
    "names_sorted = quicksort(tenthousand_names(10))\n",
    "\n",
    "\n",
    "# Initialize lists to hold execution times\n",
    "linear_execution = []\n",
    "binary_execution = []\n",
    "set_remove_execution = []\n",
    "\n",
    "# Linear Search for unsorted list\n",
    "\n",
    "for i in temp_array:\n",
    "    t1 = time.perf_counter()\n",
    "    linear_search(names_unsorted, i)\n",
    "    t2 = time.perf_counter()\n",
    "    execution = t2-t1\n",
    "    linear_execution.append(execution)\n",
    "\n",
    "# Binary search for sorted list\n",
    "\n",
    "for i in temp_array:\n",
    "    t1 = time.perf_counter()\n",
    "    binary_search(names_sorted, i)\n",
    "    t2 = time.perf_counter()\n",
    "    execution = t2-t1\n",
    "    binary_execution.append(execution)\n",
    "\n",
    "# Set.remove() for set\n",
    "\n",
    "for i in temp_array:\n",
    "    t1 = time.perf_counter()\n",
    "    names_set.remove(i)\n",
    "    t1 = time.perf_counter()\n",
    "    execution = t6-t5\n",
    "    set_remove_execution.append(execution)\n",
    "\n",
    "print('All executions complete.')"
   ]
  },
  {
   "cell_type": "markdown",
   "metadata": {},
   "source": [
    "## Make Execution Times Into Table, Use Visualization to Show Algorithm Performance"
   ]
  },
  {
   "cell_type": "markdown",
   "metadata": {},
   "source": [
    "Create a table and plot comparing times of linear search, binary search and set lookup for the six names using Python (matplotlib or Seaborn) or JavaScript (D3) visualization tools to illustrate algorithm performance. "
   ]
  },
  {
   "cell_type": "code",
   "execution_count": 55,
   "metadata": {},
   "outputs": [
    {
     "data": {
      "text/html": [
       "<div>\n",
       "<style scoped>\n",
       "    .dataframe tbody tr th:only-of-type {\n",
       "        vertical-align: middle;\n",
       "    }\n",
       "\n",
       "    .dataframe tbody tr th {\n",
       "        vertical-align: top;\n",
       "    }\n",
       "\n",
       "    .dataframe thead th {\n",
       "        text-align: right;\n",
       "    }\n",
       "</style>\n",
       "<table border=\"1\" class=\"dataframe\">\n",
       "  <thead>\n",
       "    <tr style=\"text-align: right;\">\n",
       "      <th></th>\n",
       "      <th>element_number</th>\n",
       "      <th>linear_search</th>\n",
       "      <th>binary_search</th>\n",
       "      <th>set_removal</th>\n",
       "    </tr>\n",
       "  </thead>\n",
       "  <tbody>\n",
       "    <tr>\n",
       "      <td>0</td>\n",
       "      <td>10000</td>\n",
       "      <td>0.001778</td>\n",
       "      <td>0.000012</td>\n",
       "      <td>0.000048</td>\n",
       "    </tr>\n",
       "    <tr>\n",
       "      <td>1</td>\n",
       "      <td>30000</td>\n",
       "      <td>0.005563</td>\n",
       "      <td>0.000008</td>\n",
       "      <td>0.000048</td>\n",
       "    </tr>\n",
       "    <tr>\n",
       "      <td>2</td>\n",
       "      <td>50000</td>\n",
       "      <td>0.008201</td>\n",
       "      <td>0.000009</td>\n",
       "      <td>0.000048</td>\n",
       "    </tr>\n",
       "    <tr>\n",
       "      <td>3</td>\n",
       "      <td>70000</td>\n",
       "      <td>0.011408</td>\n",
       "      <td>0.000007</td>\n",
       "      <td>0.000048</td>\n",
       "    </tr>\n",
       "    <tr>\n",
       "      <td>4</td>\n",
       "      <td>90000</td>\n",
       "      <td>0.014914</td>\n",
       "      <td>0.000009</td>\n",
       "      <td>0.000048</td>\n",
       "    </tr>\n",
       "    <tr>\n",
       "      <td>5</td>\n",
       "      <td>100000</td>\n",
       "      <td>0.015692</td>\n",
       "      <td>0.000006</td>\n",
       "      <td>0.000048</td>\n",
       "    </tr>\n",
       "  </tbody>\n",
       "</table>\n",
       "</div>"
      ],
      "text/plain": [
       "   element_number  linear_search  binary_search  set_removal\n",
       "0           10000       0.001778       0.000012     0.000048\n",
       "1           30000       0.005563       0.000008     0.000048\n",
       "2           50000       0.008201       0.000009     0.000048\n",
       "3           70000       0.011408       0.000007     0.000048\n",
       "4           90000       0.014914       0.000009     0.000048\n",
       "5          100000       0.015692       0.000006     0.000048"
      ]
     },
     "execution_count": 55,
     "metadata": {},
     "output_type": "execute_result"
    }
   ],
   "source": [
    "df = pd.DataFrame({\n",
    "    'element_number' : positions\n",
    "    ,'linear_search' : linear_execution\n",
    "    ,'binary_search' : binary_execution\n",
    "    ,'set_removal'   : set_remove_execution\n",
    "})\n",
    "df"
   ]
  },
  {
   "cell_type": "markdown",
   "metadata": {},
   "source": [
    "# FIND A D3 PYTHON LIBRARY\n",
    "\n",
    "https://mode.com/blog/python-interactive-plot-libraries"
   ]
  },
  {
   "cell_type": "markdown",
   "metadata": {},
   "source": [
    "## Discussion"
   ]
  },
  {
   "cell_type": "code",
   "execution_count": null,
   "metadata": {},
   "outputs": [],
   "source": []
  }
 ],
 "metadata": {
  "kernelspec": {
   "display_name": "Python 3",
   "language": "python",
   "name": "python3"
  },
  "language_info": {
   "codemirror_mode": {
    "name": "ipython",
    "version": 3
   },
   "file_extension": ".py",
   "mimetype": "text/x-python",
   "name": "python",
   "nbconvert_exporter": "python",
   "pygments_lexer": "ipython3",
   "version": "3.7.4"
  }
 },
 "nbformat": 4,
 "nbformat_minor": 2
}
