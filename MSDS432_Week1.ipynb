{
 "cells": [
  {
   "cell_type": "markdown",
   "metadata": {},
   "source": [
    "# Import Dependencies"
   ]
  },
  {
   "cell_type": "code",
   "execution_count": 1,
   "metadata": {},
   "outputs": [],
   "source": [
    "import numpy as np\n",
    "import pandas as pd\n",
    "from time import process_time\n",
    "import matplotlib.pyplot as plt\n",
    "import seaborn as sns"
   ]
  },
  {
   "cell_type": "markdown",
   "metadata": {},
   "source": [
    "# Build out user-defined functions for later use"
   ]
  },
  {
   "cell_type": "markdown",
   "metadata": {},
   "source": [
    "### The first two are functions I built myself - it is possible that there are more efficient ways to write them."
   ]
  },
  {
   "cell_type": "code",
   "execution_count": 2,
   "metadata": {},
   "outputs": [],
   "source": [
    "def reset_arrays():\n",
    "    \"\"\"Returns two items:\n",
    "    1) List of five unsorted random uniform integer arrays of length [512, 1024, 2048, 4096, and 8192].\n",
    "    2) List of five array lengths in ascending order: [512, 1024, 2048, 4096, 8192]\n",
    "    \"\"\"\n",
    "    arrays = []\n",
    "    array_lengths = [512, 1024, 2048, 4096, 8192]\n",
    "    for length in array_lengths:\n",
    "        array = np.random.randint(low=1, high=10000, size=length)\n",
    "        arrays.append(array)\n",
    "    return arrays, array_lengths\n",
    "\n",
    "\n",
    "# This assumes that the list passed is all integers and does not validate - this is to keep runtimes clean\n",
    "def max_linear_search(intarray):\n",
    "    counter = 0\n",
    "    maximum = 0\n",
    "    while counter+1 < len(intarray):        \n",
    "        if intarray[counter] >= maximum:\n",
    "            maximum = intarray[counter]\n",
    "        else:\n",
    "            pass\n",
    "        return None"
   ]
  },
  {
   "cell_type": "markdown",
   "metadata": {},
   "source": [
    "### The third here came from Egon Schiele - his GitHub page is referenced below."
   ]
  },
  {
   "cell_type": "code",
   "execution_count": 3,
   "metadata": {},
   "outputs": [],
   "source": [
    "##### COPIED CODE FROM https://github.com/egonSchiele/grokking_algorithms\n",
    "def binary_search(list, item):\n",
    "  # low and high keep track of which part of the list you'll search in.\n",
    "  low = 0\n",
    "  high = len(list) - 1\n",
    "\n",
    "  # While you haven't narrowed it down to one element ...\n",
    "  while low <= high:\n",
    "    # ... check the middle element\n",
    "    mid = (low + high) // 2\n",
    "    guess = list[mid]\n",
    "    # Found the item.\n",
    "    if guess == item:\n",
    "      return mid\n",
    "    # The guess was too high.\n",
    "    if guess > item:\n",
    "      high = mid - 1\n",
    "    # The guess was too low.\n",
    "    else:\n",
    "      low = mid + 1\n",
    "\n",
    "  # Item doesn't exist\n",
    "  return None\n"
   ]
  },
  {
   "cell_type": "markdown",
   "metadata": {},
   "source": [
    "# Use sort and search algorithms on variable-length integer arrays."
   ]
  },
  {
   "cell_type": "code",
   "execution_count": 4,
   "metadata": {},
   "outputs": [
    {
     "name": "stdout",
     "output_type": "stream",
     "text": [
      "512\n",
      "Sorting time took 0.000568000000000346 seconds.\n",
      "1024\n",
      "Sorting time took 0.0001660000000001105 seconds.\n",
      "2048\n",
      "Sorting time took 0.00018400000000040606 seconds.\n",
      "4096\n",
      "Sorting time took 0.00036799999999992394 seconds.\n",
      "8192\n",
      "Sorting time took 0.0008360000000000589 seconds.\n"
     ]
    }
   ],
   "source": [
    "# Sort each array, ascending\n",
    "arrays, array_lengths = reset_arrays()\n",
    "sort_times = []\n",
    "\n",
    "for i in range(len(arrays)):\n",
    "    array = arrays[i] #define the array\n",
    "    print(len(array))\n",
    "    t1 = process_time()\n",
    "    array.sort() #sort the array - `reverse` parameter is optional if we wanted to sort descending\n",
    "    t2 = process_time()\n",
    "    elapsed = t2-t1\n",
    "    sort_times.append(elapsed)\n",
    "    print(f'Sorting time took {elapsed} seconds.')"
   ]
  },
  {
   "cell_type": "code",
   "execution_count": 6,
   "metadata": {},
   "outputs": [
    {
     "name": "stdout",
     "output_type": "stream",
     "text": [
      "Sort and binary search for unsorted array of length 512: 0.00017399999999989646 seconds.\n",
      "Sort and binary search for unsorted array of length 1024: 0.00030399999999985994 seconds.\n",
      "Sort and binary search for unsorted array of length 2048: 0.0005999999999999339 seconds.\n",
      "Sort and binary search for unsorted array of length 4096: 0.0013579999999997483 seconds.\n",
      "Sort and binary search for unsorted array of length 8192: 0.003962000000000021 seconds.\n"
     ]
    }
   ],
   "source": [
    "# Binary search plus sort on unsorted array\n",
    "binary_sort_and_search_times = []\n",
    "arrays, array_lengths = reset_arrays()\n",
    "\n",
    "for i in range(len(arrays)):\n",
    "    array = arrays[i]\n",
    "    array_length = len(array)\n",
    "    \n",
    "    t1 = process_time()\n",
    "    array.sort()\n",
    "    binary_search(array, max(array))\n",
    "    t2 = process_time()\n",
    "    \n",
    "    elapsed = t2-t1\n",
    "    binary_sort_and_search_times.append(elapsed)\n",
    "    print(f'Sort and binary search for unsorted array of length {array_length}: {elapsed} seconds.')"
   ]
  },
  {
   "cell_type": "code",
   "execution_count": 8,
   "metadata": {},
   "outputs": [
    {
     "name": "stdout",
     "output_type": "stream",
     "text": [
      "Binary search for array of length 512: 0.00021199999999987895 seconds.\n",
      "Binary search for array of length 1024: 0.0004179999999998074 seconds.\n",
      "Binary search for array of length 2048: 0.0007340000000000124 seconds.\n",
      "Binary search for array of length 4096: 0.0014980000000002214 seconds.\n",
      "Binary search for array of length 8192: 0.0023320000000000007 seconds.\n"
     ]
    }
   ],
   "source": [
    "# Binary search on the sorted array\n",
    "binary_sorted_search_times = []\n",
    "arrays, array_lengths = reset_arrays()\n",
    "for i in range(len(arrays)):\n",
    "    array = arrays[i]\n",
    "    array_length = len(array)\n",
    "    array.sort() #sorting before timer\n",
    "    \n",
    "    t1 = process_time()\n",
    "    binary_search(array, max(array))\n",
    "    t2 = process_time()\n",
    "    \n",
    "    elapsed = t2-t1\n",
    "    binary_sorted_search_times.append(elapsed)\n",
    "    print(f'Binary search for array of length {array_length}: {elapsed} seconds.')"
   ]
  },
  {
   "cell_type": "code",
   "execution_count": 10,
   "metadata": {},
   "outputs": [
    {
     "name": "stdout",
     "output_type": "stream",
     "text": [
      "Linear search for sorted array of length 512: 1.4000000000180535e-05 seconds.\n",
      "Linear search for sorted array of length 1024: 7.999999999785956e-06 seconds.\n",
      "Linear search for sorted array of length 2048: 7.999999999785956e-06 seconds.\n",
      "Linear search for sorted array of length 4096: 1.0000000000065512e-05 seconds.\n",
      "Linear search for sorted array of length 8192: 1.3999999999736445e-05 seconds.\n"
     ]
    }
   ],
   "source": [
    "linear_search_times = []\n",
    "arrays, array_lengths = reset_arrays()\n",
    "for i in range(len(arrays)):\n",
    "    array = arrays[i]\n",
    "    array_length = len(array)\n",
    "    array.sort()\n",
    "    \n",
    "    t1 = process_time()\n",
    "    max_linear_search(array)\n",
    "    t2 = process_time()\n",
    "    \n",
    "    elapsed = t2-t1\n",
    "    linear_search_times.append(elapsed)\n",
    "    print(f'Linear search for sorted array of length {array_length}: {elapsed} seconds.')"
   ]
  },
  {
   "cell_type": "markdown",
   "metadata": {},
   "source": [
    "### Make a dataframe of the results"
   ]
  },
  {
   "cell_type": "code",
   "execution_count": 18,
   "metadata": {},
   "outputs": [
    {
     "data": {
      "text/html": [
       "<div>\n",
       "<style scoped>\n",
       "    .dataframe tbody tr th:only-of-type {\n",
       "        vertical-align: middle;\n",
       "    }\n",
       "\n",
       "    .dataframe tbody tr th {\n",
       "        vertical-align: top;\n",
       "    }\n",
       "\n",
       "    .dataframe thead th {\n",
       "        text-align: right;\n",
       "    }\n",
       "</style>\n",
       "<table border=\"1\" class=\"dataframe\">\n",
       "  <thead>\n",
       "    <tr style=\"text-align: right;\">\n",
       "      <th></th>\n",
       "      <th>array_length</th>\n",
       "      <th>sort_time</th>\n",
       "      <th>linear_search_time</th>\n",
       "      <th>binary_search</th>\n",
       "      <th>binary_sort_and_search</th>\n",
       "    </tr>\n",
       "  </thead>\n",
       "  <tbody>\n",
       "    <tr>\n",
       "      <td>0</td>\n",
       "      <td>512</td>\n",
       "      <td>0.000568</td>\n",
       "      <td>0.000014</td>\n",
       "      <td>0.000212</td>\n",
       "      <td>0.000174</td>\n",
       "    </tr>\n",
       "    <tr>\n",
       "      <td>1</td>\n",
       "      <td>1024</td>\n",
       "      <td>0.000166</td>\n",
       "      <td>0.000008</td>\n",
       "      <td>0.000418</td>\n",
       "      <td>0.000304</td>\n",
       "    </tr>\n",
       "    <tr>\n",
       "      <td>2</td>\n",
       "      <td>2048</td>\n",
       "      <td>0.000184</td>\n",
       "      <td>0.000008</td>\n",
       "      <td>0.000734</td>\n",
       "      <td>0.000600</td>\n",
       "    </tr>\n",
       "    <tr>\n",
       "      <td>3</td>\n",
       "      <td>4096</td>\n",
       "      <td>0.000368</td>\n",
       "      <td>0.000010</td>\n",
       "      <td>0.001498</td>\n",
       "      <td>0.001358</td>\n",
       "    </tr>\n",
       "    <tr>\n",
       "      <td>4</td>\n",
       "      <td>8192</td>\n",
       "      <td>0.000836</td>\n",
       "      <td>0.000014</td>\n",
       "      <td>0.002332</td>\n",
       "      <td>0.003962</td>\n",
       "    </tr>\n",
       "  </tbody>\n",
       "</table>\n",
       "</div>"
      ],
      "text/plain": [
       "   array_length  sort_time  linear_search_time  binary_search  \\\n",
       "0           512   0.000568            0.000014       0.000212   \n",
       "1          1024   0.000166            0.000008       0.000418   \n",
       "2          2048   0.000184            0.000008       0.000734   \n",
       "3          4096   0.000368            0.000010       0.001498   \n",
       "4          8192   0.000836            0.000014       0.002332   \n",
       "\n",
       "   binary_sort_and_search  \n",
       "0                0.000174  \n",
       "1                0.000304  \n",
       "2                0.000600  \n",
       "3                0.001358  \n",
       "4                0.003962  "
      ]
     },
     "execution_count": 18,
     "metadata": {},
     "output_type": "execute_result"
    }
   ],
   "source": [
    "df = pd.DataFrame(list(zip(array_lengths, sort_times, linear_search_times,\n",
    "                           binary_sorted_search_times, binary_sort_and_search_times)),\n",
    "                 columns=['array_length','sort_time','linear_search_time','binary_search','binary_sort_and_search'])\n",
    "df"
   ]
  },
  {
   "cell_type": "markdown",
   "metadata": {},
   "source": [
    "# Plot the results\n",
    "We expect to see the relative complexity of binary and linear search on sorted arrays as well as binary sort-and-search."
   ]
  },
  {
   "cell_type": "markdown",
   "metadata": {},
   "source": [
    "**Use python matplotlib or Seaborn to generate a plot with the size of the random number array on the horizontal axis and with execution time in milliseconds on the vertical axis. The plot should show execution time against array size for linear and binary search algorithms alone.  Discuss the results.**\n",
    "\n",
    "---------------\n",
    "\n",
    "**Use Python matplotlib or Seaborn to generate a measure of the size of the data set on the horizontal axis and with execution time in milliseconds on the vertical axis. The plot should show execution time against array size for each form of the algorithm being tested (last four columns of the table).  Discuss the results.**\n"
   ]
  },
  {
   "cell_type": "code",
   "execution_count": null,
   "metadata": {},
   "outputs": [],
   "source": []
  }
 ],
 "metadata": {
  "kernelspec": {
   "display_name": "Python 3",
   "language": "python",
   "name": "python3"
  },
  "language_info": {
   "codemirror_mode": {
    "name": "ipython",
    "version": 3
   },
   "file_extension": ".py",
   "mimetype": "text/x-python",
   "name": "python",
   "nbconvert_exporter": "python",
   "pygments_lexer": "ipython3",
   "version": "3.7.4"
  }
 },
 "nbformat": 4,
 "nbformat_minor": 2
}
