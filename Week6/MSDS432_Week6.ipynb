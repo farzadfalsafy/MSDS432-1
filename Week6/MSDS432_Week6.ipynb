{
 "cells": [
  {
   "cell_type": "code",
   "execution_count": 3,
   "metadata": {},
   "outputs": [],
   "source": [
    "import pandas as pd\n",
    "import numpy as np\n",
    "import seaborn as sns\n",
    "import matplotlib.pyplot as plt\n",
    "import random\n",
    "import time\n",
    "from collections import deque\n",
    "import networkx"
   ]
  },
  {
   "cell_type": "markdown",
   "metadata": {},
   "source": [
    "1. Create a five level 'connections' graph (all unique, no duplicates).\n",
    "The first level should have five people and each person in first level should have five connections (they can be exclusive to one person or shared with other members on the same level, but all five should be unique, no duplicates)\n",
    "Each person in the second level should have five connections (they can be exclusive to one person or shared with other members on the same level, but all five should be unique, no duplicates)\n",
    "Continue the same for third, fourth, and fifth levels\n",
    "There should be no reverse connections (i.e. first level can connect to second level but second cannot have any reverse connection with the first, and so on for 3rd, 4th, and 5th levels)"
   ]
  },
  {
   "cell_type": "code",
   "execution_count": 8,
   "metadata": {},
   "outputs": [],
   "source": [
    "# Initializing graph origin\n",
    "\n",
    "graph = {} # Graph will be defined as a dictionary\n",
    "\n",
    "# Five unique first-level connections\n",
    "graph['origin'] = ['a0','a1','a2','a3','a4'] \n",
    "\n",
    "# Create second-level connections\n",
    "graph['a0'] = ['b1','b3','b5','b7','b9']\n",
    "graph['a1'] = ['b0','b2','b4','b6','b8']\n",
    "graph['a2'] = ['b4','b11','b9','b13','b15']\n",
    "graph['a3'] = ['b3','b13','b10','b12','b14']\n",
    "graph['a4'] = ['b12','b17','b19','b0','b16']\n",
    "\n",
    "# Create third-level connections\n",
    "graph['b0'] = ['c0','c1','c2','c3','c4']\n",
    "graph['b1'] = ['c3','c4','c5','c6','c7']\n",
    "graph['b2'] = ['c6','c7','c8','c9','c10']\n",
    "graph['b3'] = ['c9','c10','c11','c12','c13']\n",
    "graph['b4'] = ['c12','c13','c14','c15','c16']\n",
    "graph['b5'] = ['c15','c16','c17','c18','c19']\n",
    "graph['b6'] = ['c0','c4','c8','c12','c16']\n",
    "graph['b7'] = ['c4','c6','c8','c10','c12']\n",
    "graph['b8'] = ['c1','c4','c7','c10','c13']\n",
    "graph['b9'] = ['c3','c5','c8','c13','c19']\n",
    "graph['b10'] = ['c3','c19','c10','c8','c4']\n",
    "graph['b11'] = ['c18','c11','c4','c3','c16']\n",
    "graph['b12'] = ['c10','c5','c8','c13','c4']\n",
    "graph['b13'] = ['c19','c1','c9','c12','c7']\n",
    "graph['b14'] = ['c13','c9','c5','c0','c12']\n",
    "graph['b15'] = ['c3','c12','c19','c7','c2']\n",
    "graph['b16'] = ['c4','c13','c5','c7','c16']\n",
    "\n",
    "\n",
    "# Create fourth=level connections\n",
    "graph['c0'] = ['d0','d1','d2','d3','d4']\n",
    "graph['c1'] = ['d3','d4','d5','d6','d7']\n",
    "graph['c2'] = ['d6','d7','d8','d9','d10']\n",
    "graph['c3'] = ['d9','d10','d11','d12','d13']\n",
    "graph['c4'] = ['d12','d13','d14','d15','d16']\n",
    "graph['c5'] = ['d15','d16','d17','d18','d19']\n",
    "graph['c6'] = ['d0','d1','d3','d4','d9']\n",
    "graph['c7'] = ['d3','d4','d6','d7','d8']\n",
    "graph['c8'] = ['d9','d10','d12','d13','d16']\n",
    "graph['c9'] = ['d12','d13','d15','d16','d19']\n",
    "graph['c10'] = ['d15','d16','d18','d19','d4']\n",
    "graph['c11'] = ['d0','d3','d6','d9','d12','d15']\n",
    "graph['c12'] = ['d1','d4','d7','d10','d13']\n",
    "graph['c13'] = ['d2','d5','d8','d11','d14']\n",
    "graph['c14'] = ['d3','d9','d15','d18','d0']\n",
    "graph['c15'] = ['d0','d4','d8','d12','d16']\n",
    "graph['c16'] = ['d1','d8','d15','d3','d10']\n",
    "graph['c17'] = ['d4','d9','d14','d3','d19']\n",
    "graph['c18'] = ['d1','d13','d18','d5','d9']\n",
    "graph['c19'] = ['d4','d17','d19','d11','d6']\n",
    "\n",
    "\n",
    "# Create fifth-level connections\n",
    "graph['d0'] = ['e0','e1','e2','e3','e4']\n",
    "graph['d1'] = ['e2','e3','e4','e5','e6']\n",
    "graph['d2'] = ['e4','e5','e6','e7','e8']\n",
    "graph['d3'] = ['e6','e7','e8','e9','e10']\n",
    "graph['d4'] = ['e8','e9','e10','e11','e12']\n",
    "graph['d5'] = ['e10','e11','e12','e13','e14']\n",
    "graph['d6'] = ['e12','e13','e14','e15','e16']\n",
    "graph['d7'] = ['e14','e15','e16','e17','e18']\n",
    "graph['d8'] = ['e16','e17','e18','e19','e20']\n",
    "graph['d9'] = ['e0','e3','e6','e9','e12']\n",
    "graph['d10'] = ['e1','e3','e5','e7','e9']\n",
    "graph['d11'] = ['e1','e4','e7','e10','e13']\n",
    "graph['d12'] = ['e2','e5','e8','e11','e14']\n",
    "graph['d13'] = ['e1','e6','e11','e16','e20']\n",
    "graph['d14'] = ['e0','e5','e10','e15','e20']\n",
    "graph['d15'] = ['e2','e7','e12','e17','e1']\n",
    "graph['d16'] = ['e3','e8','e13','e18','e11']\n",
    "graph['d17'] = ['e2','e12','e14','e0','e8']\n",
    "graph['d18'] = ['e2','e6','e12','e14','e18']\n",
    "graph['d19'] = ['e0','e4','e8','e9','e15']\n"
   ]
  },
  {
   "cell_type": "code",
   "execution_count": 11,
   "metadata": {},
   "outputs": [],
   "source": [
    "def person_is_seller(name):\n",
    "      return name[-1] == '4'\n",
    "\n",
    "# graph = {}\n",
    "# graph[\"you\"] = [\"alice\", \"bob\", \"claire\"]\n",
    "# graph[\"bob\"] = [\"anuj\", \"peggy\"]\n",
    "# graph[\"alice\"] = [\"peggy\"]\n",
    "# graph[\"claire\"] = [\"thom\", \"jonny\"]\n",
    "# graph[\"anuj\"] = []\n",
    "# graph[\"peggy\"] = []\n",
    "# graph[\"thom\"] = []\n",
    "# graph[\"jonny\"] = []\n",
    "\n",
    "def search(name):\n",
    "    search_queue = deque()\n",
    "    search_queue += graph[name]\n",
    "    # This array is how you keep track of which people you've searched before.\n",
    "    searched = []\n",
    "    while search_queue:\n",
    "        person = search_queue.popleft()\n",
    "        # Only search this person if you haven't already searched them.\n",
    "        if person not in searched:\n",
    "            if person_is_seller(person):\n",
    "                print(person + \" ends in the correct digit!\")\n",
    "                return True\n",
    "            else:\n",
    "                search_queue += graph[person]\n",
    "                # Marks this person as searched\n",
    "                searched.append(person)\n",
    "    return False"
   ]
  },
  {
   "cell_type": "markdown",
   "metadata": {},
   "source": [
    "USE AN ADJACENCY MATRIX with networkx"
   ]
  },
  {
   "cell_type": "markdown",
   "metadata": {},
   "source": [
    "2. Now search for three people on each level and capture the time for each search."
   ]
  },
  {
   "cell_type": "code",
   "execution_count": 12,
   "metadata": {},
   "outputs": [
    {
     "name": "stdout",
     "output_type": "stream",
     "text": [
      "b14 ends in the correct digit!\n",
      "0.0001738740002110717\n",
      "True\n"
     ]
    }
   ],
   "source": [
    "# Searching first level\n",
    "t1 = time.perf_counter()\n",
    "result = search('a3')\n",
    "t2 = time.perf_counter()\n",
    "execution = t2-t1\n",
    "print(execution)\n",
    "print(result)\n",
    "\n",
    "# Searching second level\n",
    "\n",
    "# Searching third level\n",
    "\n",
    "# Searching fourth level"
   ]
  },
  {
   "cell_type": "markdown",
   "metadata": {},
   "source": [
    "3. Organize the results of the study into an table showing the 'name' that you searched for, the level of the search (first, second, third, fourth, fifth), and the time it took.  Discuss any findings."
   ]
  },
  {
   "cell_type": "code",
   "execution_count": null,
   "metadata": {},
   "outputs": [],
   "source": []
  },
  {
   "cell_type": "markdown",
   "metadata": {},
   "source": [
    "4. Using the average time for each level, create a plot and compare times at each level (five bars or any other suitable visual).  Discuss any findings."
   ]
  },
  {
   "cell_type": "code",
   "execution_count": null,
   "metadata": {},
   "outputs": [],
   "source": []
  },
  {
   "cell_type": "markdown",
   "metadata": {},
   "source": [
    "5. Prepare an executive summary of your results, referring to the table and figures you have generated. Explain how your results relate to big O notation. Describe your results in language that management can understand. This summary should be included as text paragraphs in the Jupyter notebook.  Explain how the algorithm works and why it is a useful to data engineers."
   ]
  },
  {
   "cell_type": "code",
   "execution_count": null,
   "metadata": {},
   "outputs": [],
   "source": []
  }
 ],
 "metadata": {
  "kernelspec": {
   "display_name": "Python 3",
   "language": "python",
   "name": "python3"
  },
  "language_info": {
   "codemirror_mode": {
    "name": "ipython",
    "version": 3
   },
   "file_extension": ".py",
   "mimetype": "text/x-python",
   "name": "python",
   "nbconvert_exporter": "python",
   "pygments_lexer": "ipython3",
   "version": "3.7.4"
  }
 },
 "nbformat": 4,
 "nbformat_minor": 2
}
