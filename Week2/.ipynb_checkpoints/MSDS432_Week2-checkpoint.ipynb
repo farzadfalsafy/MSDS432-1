{
 "cells": [
  {
   "cell_type": "markdown",
   "metadata": {},
   "source": [
    "### Import Dependencies"
   ]
  },
  {
   "cell_type": "code",
   "execution_count": 2,
   "metadata": {},
   "outputs": [],
   "source": [
    "import pandas as pd\n",
    "import numpy as np\n",
    "import random\n",
    "import string\n",
    "import time"
   ]
  },
  {
   "cell_type": "markdown",
   "metadata": {},
   "source": [
    "### Create specified arrays\n",
    "\n",
    "Arrays should be of lengths 5000, 10000, 15000, 20000, and 25000. Arrays should be of following types:\n",
    "\n",
    "- Uniformly distributed random floats\n",
    "- Uniformly distributed random integers\n",
    "- Random strings of length five\n",
    "- Random strings of length fifteen"
   ]
  },
  {
   "cell_type": "code",
   "execution_count": 3,
   "metadata": {},
   "outputs": [],
   "source": [
    "#Set empty arrays\n",
    "int_arrays = []\n",
    "float_arrays = []\n",
    "len5_arrays = []\n",
    "len15_arrays = []\n",
    "array_lengths = [5000, 10000, 15000, 20000, 25000]\n",
    "\n",
    "#Create arrays of four different styles - using one million for numeric dtypes as high because it is a required argument\n",
    "# Arrays are for integers, floats, 5-length strings, and 15-length strings\n",
    "for i in array_lengths:\n",
    "    np.random.seed(14)\n",
    "    integers = list(np.random.randint(low=0, high=1000000, size=i))\n",
    "    int_arrays.append(integers)\n",
    "    \n",
    "    floats = list(np.random.uniform(low=0, high=1000000, size=i))\n",
    "    float_arrays.append(floats)\n",
    "    \n",
    "    length_fives = [''.join(random.choices(string.ascii_letters, k=5)) for j in range(i)]\n",
    "    len5_arrays.append(length_fives)\n",
    "    \n",
    "    length_fifteens = [''.join(random.choices(string.ascii_letters, k=5)) for k in range(i)]\n",
    "    len15_arrays.append(length_fifteens)"
   ]
  },
  {
   "cell_type": "markdown",
   "metadata": {},
   "source": [
    "### Implement and time Selection Sort algorithm\n",
    "\n",
    "Selection sort algorithm as defined below was taken from the book _Grokking Algorithms_ by Aditya Bhargava."
   ]
  },
  {
   "cell_type": "code",
   "execution_count": 4,
   "metadata": {},
   "outputs": [],
   "source": [
    "# Finds the smallest value in an array\n",
    "def findSmallest(arr):\n",
    "  # Stores the smallest value\n",
    "  smallest = arr[0]\n",
    "  # Stores the index of the smallest value\n",
    "  smallest_index = 0\n",
    "  for i in range(1, len(arr)):\n",
    "    if arr[i] < smallest:\n",
    "      smallest_index = i\n",
    "      smallest = arr[i]      \n",
    "  return smallest_index\n",
    "\n",
    "# Sort array\n",
    "def selectionSort(arr):\n",
    "  newArr = []\n",
    "  for i in range(len(arr)):\n",
    "      # Finds the smallest element in the array and adds it to the new array\n",
    "      smallest = findSmallest(arr)\n",
    "      newArr.append(arr.pop(smallest))\n",
    "  return newArr"
   ]
  },
  {
   "cell_type": "code",
   "execution_count": 5,
   "metadata": {},
   "outputs": [],
   "source": [
    "# Initialize empty lists to store execution times\n",
    "int_execution_times = []\n",
    "float_execution_times = []\n",
    "l5_execution_times = []\n",
    "l15_execution_times = []\n",
    "\n",
    "# Execute selection sort on integer arrays\n",
    "for i in range(len(int_arrays)):\n",
    "    t1 = time.perf_counter()\n",
    "    selectionSort(int_arrays[i])\n",
    "    t2 = time.perf_counter()\n",
    "    execution_time = t2-t1\n",
    "    int_execution_times.append(execution_time)\n",
    "\n",
    "# Execute selection sort on float arrays\n",
    "for i in range(len(float_arrays)):\n",
    "    t1 = time.perf_counter()\n",
    "    selectionSort(float_arrays[i])\n",
    "    t2 = time.perf_counter()\n",
    "    execution_time = t2-t1\n",
    "    float_execution_times.append(execution_time)\n",
    "\n",
    "# Execute selection sort on arrays of random strings, length 5\n",
    "for i in range(len(len5_arrays)):\n",
    "    t1 = time.perf_counter()\n",
    "    selectionSort(len5_arrays[i])\n",
    "    t2 = time.perf_counter()\n",
    "    execution_time = t2-t1\n",
    "    l5_execution_times.append(execution_time)\n",
    "    \n",
    "# Execute selection sort on arrays of random strings, length 15\n",
    "for i in range(len(len15_arrays)):\n",
    "    t1 = time.perf_counter()\n",
    "    selectionSort(len15_arrays[i])\n",
    "    t2 = time.perf_counter()\n",
    "    execution_time = t2-t1\n",
    "    l15_execution_times.append(execution_time)"
   ]
  },
  {
   "cell_type": "markdown",
   "metadata": {},
   "source": [
    "### Organize into pandas dataframe, examine differences in Selection Sort execution times."
   ]
  },
  {
   "cell_type": "code",
   "execution_count": 11,
   "metadata": {},
   "outputs": [
    {
     "data": {
      "text/html": [
       "<div>\n",
       "<style scoped>\n",
       "    .dataframe tbody tr th:only-of-type {\n",
       "        vertical-align: middle;\n",
       "    }\n",
       "\n",
       "    .dataframe tbody tr th {\n",
       "        vertical-align: top;\n",
       "    }\n",
       "\n",
       "    .dataframe thead th {\n",
       "        text-align: right;\n",
       "    }\n",
       "</style>\n",
       "<table border=\"1\" class=\"dataframe\">\n",
       "  <thead>\n",
       "    <tr style=\"text-align: right;\">\n",
       "      <th></th>\n",
       "      <th>array_size</th>\n",
       "      <th>l5_execution</th>\n",
       "      <th>l15_execution</th>\n",
       "      <th>float_execution</th>\n",
       "      <th>int_execution</th>\n",
       "    </tr>\n",
       "  </thead>\n",
       "  <tbody>\n",
       "    <tr>\n",
       "      <th>0</th>\n",
       "      <td>5000</td>\n",
       "      <td>0.924436</td>\n",
       "      <td>0.942175</td>\n",
       "      <td>1.002420</td>\n",
       "      <td>0.921290</td>\n",
       "    </tr>\n",
       "    <tr>\n",
       "      <th>1</th>\n",
       "      <td>10000</td>\n",
       "      <td>4.470680</td>\n",
       "      <td>3.894142</td>\n",
       "      <td>3.974851</td>\n",
       "      <td>5.167803</td>\n",
       "    </tr>\n",
       "    <tr>\n",
       "      <th>2</th>\n",
       "      <td>15000</td>\n",
       "      <td>9.008994</td>\n",
       "      <td>9.252333</td>\n",
       "      <td>9.990125</td>\n",
       "      <td>8.705690</td>\n",
       "    </tr>\n",
       "    <tr>\n",
       "      <th>3</th>\n",
       "      <td>20000</td>\n",
       "      <td>16.289444</td>\n",
       "      <td>15.774717</td>\n",
       "      <td>16.642081</td>\n",
       "      <td>16.072135</td>\n",
       "    </tr>\n",
       "    <tr>\n",
       "      <th>4</th>\n",
       "      <td>25000</td>\n",
       "      <td>24.689617</td>\n",
       "      <td>23.079684</td>\n",
       "      <td>26.826612</td>\n",
       "      <td>25.422895</td>\n",
       "    </tr>\n",
       "  </tbody>\n",
       "</table>\n",
       "</div>"
      ],
      "text/plain": [
       "   array_size  l5_execution  l15_execution  float_execution  int_execution\n",
       "0        5000      0.924436       0.942175         1.002420       0.921290\n",
       "1       10000      4.470680       3.894142         3.974851       5.167803\n",
       "2       15000      9.008994       9.252333         9.990125       8.705690\n",
       "3       20000     16.289444      15.774717        16.642081      16.072135\n",
       "4       25000     24.689617      23.079684        26.826612      25.422895"
      ]
     },
     "execution_count": 11,
     "metadata": {},
     "output_type": "execute_result"
    }
   ],
   "source": [
    "execution_df = pd.DataFrame({\n",
    "    'array_size'     : array_lengths\n",
    "    ,'l5_execution'    : l5_execution_times\n",
    "    ,'l15_execution'  : l15_execution_times\n",
    "    ,'float_execution': float_execution_times\n",
    "    ,'int_execution'  : int_execution_times\n",
    "\n",
    "})\n",
    "execution_df"
   ]
  },
  {
   "cell_type": "code",
   "execution_count": 25,
   "metadata": {},
   "outputs": [
    {
     "name": "stdout",
     "output_type": "stream",
     "text": [
      "Size of integer: 28\n",
      "Size of float: 24\n",
      "Size of single character: 54\n",
      "Size of five character string: 54\n",
      "Size of fifteen character string: 64\n"
     ]
    }
   ],
   "source": [
    "import sys\n",
    "# Integer size\n",
    "print(f'Size of integer: {sys.getsizeof(999999)}')\n",
    "# Float size\n",
    "print(f'Size of float: {sys.getsizeof(999999.999)}')\n",
    "# Single character size\n",
    "print(f'Size of single character: {sys.getsizeof(\"q\")}')\n",
    "# Five character size\n",
    "print(f'Size of five character string: {sys.getsizeof(\"shfow\")}')\n",
    "# Fifteen character size\n",
    "print(f'Size of fifteen character string: {sys.getsizeof(\"fhwovbeiyvaldug\")}')"
   ]
  },
  {
   "cell_type": "markdown",
   "metadata": {},
   "source": [
    "The strings of length five should theoretically take less time than those of length 15, but we see in the longer arrays that this isn't necessarily the case. In the arrays length greater than 10,000, we see that the execution of five-character arrays take more time than those of length 15.\n",
    "\n",
    "We know that ASCII string characters take up more space than numeric data types: 54 bytes for an ASCII character or short string, 64 bytes for a fifteen-character string, 28 bytes for an integer (as constrained in the above code, under one million), and 24 bytes for a float as constrained above.\n",
    "\n",
    "Still, the system takes longer to process the numeric data types than the strings, when we might expect to see the opposite. This might be due to some type of system overhead, though I grouped all of them into the same for-loop in order to eliminate as much of this variation as possible.\n",
    "\n",
    "The Selection Sort algorithm has $O(n^{2})$ complexity, which is not variable based on data type, and that's where the bulk of the processing time will come from. Note that though there is some variation, all four selection sort implementations were in the same neighborhood. The $O(n^{2})$ complexity comes from having to iterate over the entire list once, selecting the minimum value, and then adding it to the `newArr` list, using the `.pop()` method to remove it from the initial array.\n",
    "\n",
    "What we expect to see (and do) is that regardless of data type, the algorithm takes progressively longer to sort, and that runtime grows in an exponential fashion. The exponential rise in algorithm runtime despite constant increases in array length reflects the exponential algorithm complexity $O(n^{2})$. "
   ]
  }
 ],
 "metadata": {
  "kernelspec": {
   "display_name": "Python 3",
   "language": "python",
   "name": "python3"
  },
  "language_info": {
   "codemirror_mode": {
    "name": "ipython",
    "version": 3
   },
   "file_extension": ".py",
   "mimetype": "text/x-python",
   "name": "python",
   "nbconvert_exporter": "python",
   "pygments_lexer": "ipython3",
   "version": "3.7.3"
  }
 },
 "nbformat": 4,
 "nbformat_minor": 2
}
