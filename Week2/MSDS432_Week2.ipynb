{
 "cells": [
  {
   "cell_type": "markdown",
   "metadata": {},
   "source": [
    "### Import Dependencies"
   ]
  },
  {
   "cell_type": "code",
   "execution_count": 3,
   "metadata": {},
   "outputs": [],
   "source": [
    "import pandas as pd\n",
    "import numpy as np\n",
    "import random\n",
    "import string\n",
    "import time"
   ]
  },
  {
   "cell_type": "markdown",
   "metadata": {},
   "source": [
    "### Create specified arrays\n",
    "\n",
    "Arrays should be of lengths 5000, 10000, 15000, 20000, and 25000. Arrays should be of following types:\n",
    "\n",
    "- Uniformly distributed random floats\n",
    "- Uniformly distributed random integers\n",
    "- Random strings of length five\n",
    "- Random strings of length fifteen"
   ]
  },
  {
   "cell_type": "code",
   "execution_count": 9,
   "metadata": {},
   "outputs": [],
   "source": [
    "#Set empty arrays\n",
    "int_arrays = []\n",
    "float_arrays = []\n",
    "len5_arrays = []\n",
    "len15_arrays = []\n",
    "array_lengths = [5000, 10000, 15000, 20000, 25000]\n",
    "\n",
    "#Create arrays of four different styles - using one million for numeric dtypes as high because it is a required argument\n",
    "# Arrays are for integers, floats, 5-length strings, and 15-length strings\n",
    "for i in array_lengths:\n",
    "    np.random.seed(14)\n",
    "    integers = list(np.random.randint(low=0, high=1000000, size=i))\n",
    "    int_arrays.append(integers)\n",
    "    \n",
    "    floats = list(np.random.uniform(low=0, high=1000000, size=i))\n",
    "    float_arrays.append(floats)\n",
    "    \n",
    "    length_fives = [''.join(random.choices(string.ascii_letters, k=5)) for j in range(i)]\n",
    "    len5_arrays.append(length_fives)\n",
    "    \n",
    "    length_fifteens = [''.join(random.choices(string.ascii_letters, k=5)) for k in range(i)]\n",
    "    len15_arrays.append(length_fifteens)"
   ]
  },
  {
   "cell_type": "markdown",
   "metadata": {},
   "source": [
    "### Implement and time Selection Sort algorithm\n",
    "\n",
    "Selection sort algorithm as defined below was taken from the book _Grokking Algorithms_ by Aditya Bhargava."
   ]
  },
  {
   "cell_type": "code",
   "execution_count": 10,
   "metadata": {},
   "outputs": [],
   "source": [
    "# Finds the smallest value in an array\n",
    "def findSmallest(arr):\n",
    "  # Stores the smallest value\n",
    "  smallest = arr[0]\n",
    "  # Stores the index of the smallest value\n",
    "  smallest_index = 0\n",
    "  for i in range(1, len(arr)):\n",
    "    if arr[i] < smallest:\n",
    "      smallest_index = i\n",
    "      smallest = arr[i]      \n",
    "  return smallest_index\n",
    "\n",
    "# Sort array\n",
    "def selectionSort(arr):\n",
    "  newArr = []\n",
    "  for i in range(len(arr)):\n",
    "      # Finds the smallest element in the array and adds it to the new array\n",
    "      smallest = findSmallest(arr)\n",
    "      newArr.append(arr.pop(smallest))\n",
    "  return newArr"
   ]
  },
  {
   "cell_type": "code",
   "execution_count": 13,
   "metadata": {},
   "outputs": [],
   "source": [
    "# Initialize empty lists to store execution times\n",
    "int_execution_times = []\n",
    "float_execution_times = []\n",
    "l5_execution_times = []\n",
    "l15_execution_times = []\n",
    "\n",
    "# Execute selection sort on integer arrays\n",
    "for i in range(len(int_arrays)):\n",
    "    t1 = time.perf_counter()\n",
    "    selectionSort(int_arrays[i])\n",
    "    t2 = time.perf_counter()\n",
    "    execution_time = t2-t1\n",
    "    int_execution_times.append(execution_time)\n",
    "\n",
    "# Execute selection sort on float arrays\n",
    "for i in range(len(float_arrays)):\n",
    "    t1 = time.perf_counter()\n",
    "    selectionSort(float_arrays[i])\n",
    "    t2 = time.perf_counter()\n",
    "    execution_time = t2-t1\n",
    "    float_execution_times.append(execution_time)\n",
    "\n",
    "# Execute selection sort on arrays of random strings, length 5\n",
    "for i in range(len(len5_arrays)):\n",
    "    t1 = time.perf_counter()\n",
    "    selectionSort(len5_arrays[i])\n",
    "    t2 = time.perf_counter()\n",
    "    execution_time = t2-t1\n",
    "    l5_execution_times.append(execution_time)\n",
    "    \n",
    "# Execute selection sort on arrays of random strings, length 15\n",
    "for i in range(len(len15_arrays)):\n",
    "    t1 = time.perf_counter()\n",
    "    selectionSort(len15_arrays[i])\n",
    "    t2 = time.perf_counter()\n",
    "    execution_time = t2-t1\n",
    "    l15_execution_times.append(execution_time)"
   ]
  }
 ],
 "metadata": {
  "kernelspec": {
   "display_name": "Python 3",
   "language": "python",
   "name": "python3"
  },
  "language_info": {
   "codemirror_mode": {
    "name": "ipython",
    "version": 3
   },
   "file_extension": ".py",
   "mimetype": "text/x-python",
   "name": "python",
   "nbconvert_exporter": "python",
   "pygments_lexer": "ipython3",
   "version": "3.7.3"
  }
 },
 "nbformat": 4,
 "nbformat_minor": 2
}
