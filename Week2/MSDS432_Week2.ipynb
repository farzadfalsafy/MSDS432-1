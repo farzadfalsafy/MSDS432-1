{
 "cells": [
  {
   "cell_type": "markdown",
   "metadata": {},
   "source": [
    "### Import Dependencies"
   ]
  },
  {
   "cell_type": "code",
   "execution_count": 11,
   "metadata": {},
   "outputs": [],
   "source": [
    "import pandas as pd\n",
    "import numpy as np\n",
    "import random\n",
    "import string\n",
    "import time\n"
   ]
  },
  {
   "cell_type": "markdown",
   "metadata": {},
   "source": [
    "### Create specified arrays\n",
    "\n",
    "Arrays should be of lengths 5000, 10000, 15000, 20000, and 25000. Arrays should be of following types:\n",
    "\n",
    "- Uniformly distributed random floats\n",
    "- Uniformly distributed random integers\n",
    "- Random strings of length five\n",
    "- Random strings of length fifteen"
   ]
  },
  {
   "cell_type": "code",
   "execution_count": 16,
   "metadata": {},
   "outputs": [],
   "source": [
    "#Set empty arrays\n",
    "int_arrays = []\n",
    "float_arrays = []\n",
    "len5_arrays = []\n",
    "len15_arrays = []\n",
    "array_lengths = [5000, 10000, 15000, 20000, 25000]\n",
    "\n",
    "#Create arrays of four different styles - using one million for numeric dtypes as high because it is a required argument\n",
    "# Arrays are for integers, floats, 5-length strings, and 15-length strings\n",
    "for i in array_lengths:\n",
    "    np.random.seed(14)\n",
    "    integers = np.random.randint(low=0, high=1000000, size=i)\n",
    "    int_arrays.append(integers)\n",
    "    \n",
    "    floats = np.random.uniform(low=0, high=1000000, size=i)\n",
    "    float_arrays.append(floats)\n",
    "    \n",
    "    length_fives = [''.join(random.choices(string.ascii_letters, k=5)) for j in range(i)]\n",
    "    len5_arrays.append(length_fives)\n",
    "    \n",
    "    length_fifteens = [''.join(random.choices(string.ascii_letters, k=5)) for k in range(i)]\n",
    "    len15_arrays.append(length_fifteens)"
   ]
  }
 ],
 "metadata": {
  "kernelspec": {
   "display_name": "Python 3",
   "language": "python",
   "name": "python3"
  },
  "language_info": {
   "codemirror_mode": {
    "name": "ipython",
    "version": 3
   },
   "file_extension": ".py",
   "mimetype": "text/x-python",
   "name": "python",
   "nbconvert_exporter": "python",
   "pygments_lexer": "ipython3",
   "version": "3.7.3"
  }
 },
 "nbformat": 4,
 "nbformat_minor": 2
}
