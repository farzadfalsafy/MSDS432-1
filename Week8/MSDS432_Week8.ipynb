{
 "cells": [
  {
   "cell_type": "code",
   "execution_count": 1,
   "metadata": {},
   "outputs": [],
   "source": [
    "import pandas as pd\n",
    "import numpy as np\n",
    "import os\n",
    "import sys\n",
    "import matplotlib.pyplot as plt\n",
    "import seaborn as sns"
   ]
  },
  {
   "cell_type": "markdown",
   "metadata": {},
   "source": [
    "In this exercise, we will begin to explore greedy algorithms and NP complete problems.  The base code for Chapter 8 of Grokking Algorithms (Bhargava 2016) is located here:  https://github.com/egonSchiele/grokking_algorithms/tree/master/08_greedy_algorithms/python\n",
    "\n",
    "Please use a greedy algorithm to solve this week's assignment. There are many ways to solve any problem so whatever solution seems appropriate to you for this week, utilize it and then explain your reasons for choosing it.  Greedy algorithms is just a concept, there is no particular algorithm that is called 'greedy algorithm', rather many of the existing algorithms use 'greedy' technique, for example, Breadth-first search and Dijkstra’s algorithm are some examples of greedy algorithms"
   ]
  },
  {
   "cell_type": "markdown",
   "metadata": {},
   "source": [
    "# The context:\n",
    "\n",
    "Assume you run a small security company that provides physical security services in the area and you recently won a new contract in the area to provide 24x7 security to a small building under construction. For simplicity we will design the solution for only 24 hours, but if you want to go above and beyond, feel free to write code that handles the 24x7 scenario as well.\n",
    "\n",
    "You have 6 security guards available at the moment who you can assign to this building but your goal is to make more money out of this contract and spend less in wages (hence greedy!)\n",
    "\n",
    "The cost/wage structure is as follows:\n",
    "\n",
    "People working less than or equal to 8 hours will be paid $15/hr\n",
    "\n",
    "Anyone working overtime (>8 hours) will be paid an additional  5,𝑖.𝑒. 20/hr\n",
    "\n",
    "Create a greedy algorithm (come up with any algorithm of your own) that finds you the most cost effective solution e.g. Should we appoint 2 security guards for 12 hours each? Or 3 of them for 8 hours each? Or 4 for 6 hours each? Or all 6 for 4 hours each? Or any other combination?"
   ]
  },
  {
   "cell_type": "markdown",
   "metadata": {},
   "source": [
    "# The problem:\n",
    "\n",
    "Write the greedy algorithm, run it, and record the solution that your algorithm produces. Please answer the following questions regarding your solution:\n",
    "\n",
    "Explain your algorithm in detail. How is it greedy? What is the complexity of your solution? Did the greedy algorithm provide the best solution or could there be an alternative/better solution to your problem? Why or why not? If the scenario had different values for the inputs would your algorithm still be successful? Eg. more than 24 hours, higher overtime, shorter shifts, or values that don't factor so nicely. Why or why not? What things would change the optimal output? If you were not constrained to a greedy algorithm, what approaches would you take to solve the problem?\n",
    "Prepare an executive summary of your results, referring to the table and figures you have generated. Explain how your results relate to big O notation. Describe your results in language that management can understand. This summary should be included as text paragraphs in the Jupyter notebook. Explain how the algorithm works and why it is a useful to data engineers."
   ]
  },
  {
   "cell_type": "markdown",
   "metadata": {},
   "source": [
    "# And as always...\n",
    "\n",
    "Program code should conform to best practices in software development, as described in the coding/software development textbook used in the course.\n",
    "\n",
    "Continue using your git repository.\n",
    "\n",
    "Rubric\n"
   ]
  },
  {
   "cell_type": "code",
   "execution_count": null,
   "metadata": {},
   "outputs": [],
   "source": []
  }
 ],
 "metadata": {
  "kernelspec": {
   "display_name": "Python 3",
   "language": "python",
   "name": "python3"
  },
  "language_info": {
   "codemirror_mode": {
    "name": "ipython",
    "version": 3
   },
   "file_extension": ".py",
   "mimetype": "text/x-python",
   "name": "python",
   "nbconvert_exporter": "python",
   "pygments_lexer": "ipython3",
   "version": "3.7.4"
  }
 },
 "nbformat": 4,
 "nbformat_minor": 2
}
