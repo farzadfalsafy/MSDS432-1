{
 "cells": [
  {
   "cell_type": "code",
   "execution_count": 147,
   "metadata": {},
   "outputs": [],
   "source": [
    "import pandas as pd\n",
    "import numpy as np\n",
    "import os\n",
    "import sys"
   ]
  },
  {
   "cell_type": "markdown",
   "metadata": {},
   "source": [
    "# The context:\n",
    "\n",
    "Assume you run a small security company that provides physical security services in the area and you recently won a new contract in the area to provide 24x7 security to a small building under construction. For simplicity we will design the solution for only 24 hours, but if you want to go above and beyond, feel free to write code that handles the 24x7 scenario as well.\n",
    "\n",
    "You have 6 security guards available at the moment who you can assign to this building but your goal is to make more money out of this contract and spend less in wages (hence greedy!)\n",
    "\n",
    "The cost/wage structure is as follows:\n",
    "\n",
    "People working less than or equal to 8 hours will be paid $15/hr\n",
    "\n",
    "Anyone working overtime (>8 hours) will be paid an additional  5,𝑖.𝑒. 20/hr\n",
    "\n",
    "Create a greedy algorithm (come up with any algorithm of your own) that finds you the most cost effective solution e.g. Should we appoint 2 security guards for 12 hours each? Or 3 of them for 8 hours each? Or 4 for 6 hours each? Or all 6 for 4 hours each? Or any other combination?"
   ]
  },
  {
   "cell_type": "markdown",
   "metadata": {},
   "source": [
    "## Explicit Assumptions:\n",
    "- Shifts can be broken into four-hour increments for overtime purposes\n",
    "- No personnel changes\n",
    "- One guard on duty at a time"
   ]
  },
  {
   "cell_type": "code",
   "execution_count": 136,
   "metadata": {},
   "outputs": [],
   "source": [
    "# Set up the available security guards\n",
    "def new_guards(num_guards=6) -> int:\n",
    "    '''\n",
    "    Initialize new list of guards, labeled 's1' through the number of guards assigned.\n",
    "    Type hinting is used to force the user to select an integer. Default value is (6).\n",
    "    '''\n",
    "    guards = {}\n",
    "    for i in range(num_guards):\n",
    "        j = 's'+str(i+1)\n",
    "        guards[j] = 0.0\n",
    "    return guards\n",
    "\n",
    "def set_hours_daily(guards: dict, num_hours:int =24):\n",
    "    while sum(guards.values()) < num_hours:\n",
    "        x = min(guards, key=guards.get)\n",
    "        if guards[x] < 8:\n",
    "            guards[x] = guards[x] + 8 # Give a full shift if not at overtime threshold\n",
    "        else:\n",
    "            guards[x] = guards[x] + 4 # Give a half shift if overtime threshold has been exceeded\n",
    "    return guards\n",
    "\n",
    "def set_hours_weekly(guards: dict, num_hours:int =168):\n",
    "    while sum(guards.values()) < num_hours:\n",
    "        x = min(guards, key=guards.get)\n",
    "        if guards[x] < 40:\n",
    "            guards[x] = guards[x] + 8 # Give a full shift if not at overtime threshold\n",
    "        else:\n",
    "            guards[x] = guards[x] + 4 # Give a half shift if overtime threshold has been exceeded\n",
    "    return guards"
   ]
  },
  {
   "cell_type": "code",
   "execution_count": 146,
   "metadata": {},
   "outputs": [
    {
     "name": "stdout",
     "output_type": "stream",
     "text": [
      "{'s1': 44.0, 's2': 44.0, 's3': 40.0, 's4': 40.0}\n",
      "{'s1': 8.0, 's2': 8.0, 's3': 8.0, 's4': 0.0, 's5': 0.0, 's6': 0.0}\n"
     ]
    }
   ],
   "source": [
    "# An example of the weekly case with four guards\n",
    "guards = new_guards(4)\n",
    "print(set_hours_weekly(guards))\n",
    "\n",
    "# An example of the weekly case with six guards \n",
    "# Argument could have been left out of `new_guards()` since 6 is default value\n",
    "guards = new_guards(6)\n",
    "print(set_hours_daily(guards))"
   ]
  },
  {
   "cell_type": "markdown",
   "metadata": {},
   "source": [
    "### How is the algorithm greedy?\n",
    "The algorithm searches for the guard with the minimum hours already assigned, and then gives them a full shift (if under the overtime limit) and a half shift (if over the overtime limit). This is greedy in that it searches for the immediately least expensive guard to assign a new shift. This keeps the guards' time equitable and everyone under the overtime limit (insofar as it is feasible).\n",
    "\n",
    "### What is the complexity of the solution?\n",
    "The complexity of the solution is $O(n^2)$ - this iterates over a loop to check for the set condition (if the given number of hours are fulfilled), then iterates over the dictionary of guards to assign them more hours.\n",
    "\n",
    "### Did the greedy algorithm provide the best solution, or could there have been a better solution to the problem? Why or why not?\n",
    "The algorithm provides the best solution available, though there are outside factors that might change this (e.g. the possiblity of hiring or firing some of the guards when there aren't enough to give them each full-time employment). For the given constraints, the solution output from the greedy algorithm is optimal.\n",
    "\n",
    "### If the scenario had different values for the inputs, would your algorithm still be successful? Eg. more than 24 hours, higher overtime, shorter shifts, or values that don't factor so nicely. Why or why not?\n",
    "My algorithm may take into account different numbers of guards or hours, and assigns half-shifts based on whether all guards are currently at the overtime threshold (to promote workplace fairness). \n",
    "\n",
    "### What things would change the optimal output?\n",
    "The ability to hire or fire guards might change the optimal output, depending on the initial parameters (this may not always be the case). Not speaking strictly in terms of \"optimal\" in the mathematical sense, there could conceivably be handling for the case where several guards meet the same minimum, selecting a random guard to receive the next shift (it currently goes sequentially through the dictionary by default).\n",
    "\n",
    "### If you were not constrained to a greedy algorithm, what approaches would you take to solve the problem?\n",
    "I would likely choose the same algorithm since this is simple and spreads the hours evenly. If constraints were taken off (like the previously mentioned ability to hire and fire), I might write this in a different fashion."
   ]
  },
  {
   "cell_type": "markdown",
   "metadata": {},
   "source": [
    "## Executive Summary\n",
    "The developed algorithm takes overtime pay into account with a few realistic constraints (shifts cannot be broken down further than 4 hours, no personnel changes, no one is preferred for OT work). Given these constraints the `set_hours_daily` and `set_hours_weekly` algorithms provide optimal solutions. \n",
    "\n",
    "In many cases, there are several optimal solutions: three guards for eight hours each or six guards for four hours each are both optimal in the case of a daily scheduler - the algorithm makes no distinction, except that hours are spread as evenly as possible. It is up to the user to provide the number of employed guards."
   ]
  }
 ],
 "metadata": {
  "kernelspec": {
   "display_name": "Python 3",
   "language": "python",
   "name": "python3"
  },
  "language_info": {
   "codemirror_mode": {
    "name": "ipython",
    "version": 3
   },
   "file_extension": ".py",
   "mimetype": "text/x-python",
   "name": "python",
   "nbconvert_exporter": "python",
   "pygments_lexer": "ipython3",
   "version": "3.7.4"
  }
 },
 "nbformat": 4,
 "nbformat_minor": 2
}
